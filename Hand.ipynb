{
  "cells": [
    {
      "cell_type": "markdown",
      "metadata": {},
      "source": [
        "**Installing needed models**"
      ]
    },
    {
      "cell_type": "code",
      "execution_count": 1,
      "metadata": {
        "colab": {
          "base_uri": "https://localhost:8080/"
        },
        "id": "HkMH9CfLXTVg",
        "outputId": "eb927302-7609-44da-86b1-ff6e42b515c0"
      },
      "outputs": [
        {
          "name": "stdout",
          "output_type": "stream",
          "text": [
            "Defaulting to user installation because normal site-packages is not writeable\n",
            "Requirement already satisfied: opencv-python in c:\\users\\admin\\appdata\\roaming\\python\\python310\\site-packages (4.9.0.80)\n",
            "Requirement already satisfied: numpy>=1.21.2 in c:\\users\\admin\\appdata\\roaming\\python\\python310\\site-packages (from opencv-python) (1.26.4)\n",
            "Defaulting to user installation because normal site-packages is not writeable\n",
            "Requirement already satisfied: mediapipe in c:\\users\\admin\\appdata\\roaming\\python\\python310\\site-packages (0.10.11)\n",
            "Requirement already satisfied: absl-py in c:\\users\\admin\\appdata\\roaming\\python\\python310\\site-packages (from mediapipe) (2.1.0)\n",
            "Requirement already satisfied: attrs>=19.1.0 in c:\\users\\admin\\appdata\\roaming\\python\\python310\\site-packages (from mediapipe) (23.2.0)\n",
            "Requirement already satisfied: flatbuffers>=2.0 in c:\\users\\admin\\appdata\\roaming\\python\\python310\\site-packages (from mediapipe) (24.3.25)\n",
            "Requirement already satisfied: jax in c:\\users\\admin\\appdata\\roaming\\python\\python310\\site-packages (from mediapipe) (0.4.25)\n",
            "Requirement already satisfied: matplotlib in c:\\users\\admin\\appdata\\roaming\\python\\python310\\site-packages (from mediapipe) (3.8.3)\n",
            "Requirement already satisfied: numpy in c:\\users\\admin\\appdata\\roaming\\python\\python310\\site-packages (from mediapipe) (1.26.4)\n",
            "Requirement already satisfied: opencv-contrib-python in c:\\users\\admin\\appdata\\roaming\\python\\python310\\site-packages (from mediapipe) (4.9.0.80)\n",
            "Requirement already satisfied: protobuf<4,>=3.11 in c:\\users\\admin\\appdata\\roaming\\python\\python310\\site-packages (from mediapipe) (3.20.3)\n",
            "Requirement already satisfied: sounddevice>=0.4.4 in c:\\users\\admin\\appdata\\roaming\\python\\python310\\site-packages (from mediapipe) (0.4.6)\n",
            "Requirement already satisfied: CFFI>=1.0 in c:\\users\\admin\\appdata\\roaming\\python\\python310\\site-packages (from sounddevice>=0.4.4->mediapipe) (1.16.0)\n",
            "Requirement already satisfied: ml-dtypes>=0.2.0 in c:\\users\\admin\\appdata\\roaming\\python\\python310\\site-packages (from jax->mediapipe) (0.3.2)\n",
            "Requirement already satisfied: opt-einsum in c:\\users\\admin\\appdata\\roaming\\python\\python310\\site-packages (from jax->mediapipe) (3.3.0)\n",
            "Requirement already satisfied: scipy>=1.9 in c:\\users\\admin\\appdata\\roaming\\python\\python310\\site-packages (from jax->mediapipe) (1.12.0)\n",
            "Requirement already satisfied: contourpy>=1.0.1 in c:\\users\\admin\\appdata\\roaming\\python\\python310\\site-packages (from matplotlib->mediapipe) (1.2.0)\n",
            "Requirement already satisfied: cycler>=0.10 in c:\\users\\admin\\appdata\\roaming\\python\\python310\\site-packages (from matplotlib->mediapipe) (0.12.1)\n",
            "Requirement already satisfied: fonttools>=4.22.0 in c:\\users\\admin\\appdata\\roaming\\python\\python310\\site-packages (from matplotlib->mediapipe) (4.50.0)\n",
            "Requirement already satisfied: kiwisolver>=1.3.1 in c:\\users\\admin\\appdata\\roaming\\python\\python310\\site-packages (from matplotlib->mediapipe) (1.4.5)\n",
            "Requirement already satisfied: packaging>=20.0 in c:\\users\\admin\\appdata\\roaming\\python\\python310\\site-packages (from matplotlib->mediapipe) (24.0)\n",
            "Requirement already satisfied: pillow>=8 in c:\\users\\admin\\appdata\\roaming\\python\\python310\\site-packages (from matplotlib->mediapipe) (10.2.0)\n",
            "Requirement already satisfied: pyparsing>=2.3.1 in c:\\users\\admin\\appdata\\roaming\\python\\python310\\site-packages (from matplotlib->mediapipe) (3.1.2)\n",
            "Requirement already satisfied: python-dateutil>=2.7 in c:\\users\\admin\\appdata\\roaming\\python\\python310\\site-packages (from matplotlib->mediapipe) (2.9.0.post0)\n",
            "Requirement already satisfied: pycparser in c:\\users\\admin\\appdata\\roaming\\python\\python310\\site-packages (from CFFI>=1.0->sounddevice>=0.4.4->mediapipe) (2.21)\n",
            "Requirement already satisfied: six>=1.5 in c:\\users\\admin\\appdata\\roaming\\python\\python310\\site-packages (from python-dateutil>=2.7->matplotlib->mediapipe) (1.16.0)\n",
            "Defaulting to user installation because normal site-packages is not writeable\n",
            "Requirement already satisfied: scikit-learn in c:\\users\\admin\\appdata\\roaming\\python\\python310\\site-packages (1.4.1.post1)\n",
            "Requirement already satisfied: numpy<2.0,>=1.19.5 in c:\\users\\admin\\appdata\\roaming\\python\\python310\\site-packages (from scikit-learn) (1.26.4)\n",
            "Requirement already satisfied: scipy>=1.6.0 in c:\\users\\admin\\appdata\\roaming\\python\\python310\\site-packages (from scikit-learn) (1.12.0)\n",
            "Requirement already satisfied: joblib>=1.2.0 in c:\\users\\admin\\appdata\\roaming\\python\\python310\\site-packages (from scikit-learn) (1.3.2)\n",
            "Requirement already satisfied: threadpoolctl>=2.0.0 in c:\\users\\admin\\appdata\\roaming\\python\\python310\\site-packages (from scikit-learn) (3.4.0)\n"
          ]
        }
      ],
      "source": [
        "!pip install opencv-python\n",
        "\n",
        "!pip install mediapipe\n",
        "\n",
        "!pip install scikit-learn\n",
        "\n",
        "!pip install pandas\n",
        "\n",
        "!pip install seaborn"
      ]
    },
    {
      "cell_type": "markdown",
      "metadata": {},
      "source": [
        "**Importing needed models**"
      ]
    },
    {
      "cell_type": "code",
      "execution_count": 1,
      "metadata": {
        "id": "YgGG2BNBas0o"
      },
      "outputs": [],
      "source": [
        "import os\n",
        "import cv2\n",
        "import numpy as np\n",
        "import pandas as pd\n",
        "import seaborn as sns\n",
        "import mediapipe as mp\n",
        "import tensorflow as tf\n",
        "import matplotlib.pyplot as plt\n",
        "from sklearn.metrics import confusion_matrix, classification_report\n",
        "from tensorflow.keras.models import Sequential\n",
        "from tensorflow.keras.layers import Dense\n",
        "from sklearn.model_selection import train_test_split\n"
      ]
    },
    {
      "cell_type": "markdown",
      "metadata": {},
      "source": [
        "**Determine the dataset path**"
      ]
    },
    {
      "cell_type": "code",
      "execution_count": 2,
      "metadata": {
        "id": "ic8MyneOa1Pu"
      },
      "outputs": [],
      "source": [
        "dataset = 'Data'\n",
        "model_save_path = 'The saved model/model.keras'\n"
      ]
    },
    {
      "cell_type": "markdown",
      "metadata": {},
      "source": [
        "**Determine the number of classes**"
      ]
    },
    {
      "cell_type": "code",
      "execution_count": 3,
      "metadata": {
        "id": "3k2QHJfbbGlx"
      },
      "outputs": [],
      "source": [
        "NUM_CLASSES = 10"
      ]
    },
    {
      "cell_type": "markdown",
      "metadata": {},
      "source": [
        "**Define the load date function**"
      ]
    },
    {
      "cell_type": "code",
      "execution_count": 4,
      "metadata": {
        "id": "mEjuuyGubRSV"
      },
      "outputs": [],
      "source": [
        "def load_dataset(dataset_path):\n",
        "    x = []\n",
        "    y = []\n",
        "    mp_hands = mp.solutions.hands\n",
        "    hands = mp_hands.Hands(min_detection_confidence=0.7, min_tracking_confidence=0.7, max_num_hands=2)\n",
        "\n",
        "    # Loop through dataset directory\n",
        "    for signFolder in os.listdir(dataset_path):\n",
        "        signLabel = signFolder\n",
        "        folderPath = os.path.join(dataset_path, signFolder)\n",
        "\n",
        "        # Loop through video files in exercise folder\n",
        "        for video_file in os.listdir(folderPath):\n",
        "            video_path = os.path.join(folderPath, video_file)\n",
        "            cap = cv2.VideoCapture(video_path)\n",
        "            while cap.isOpened():\n",
        "                success, image = cap.read()\n",
        "                if not success:\n",
        "                    break\n",
        "                # Process image using MediaPipe Hand Gesture Recognition\n",
        "                image_rgb = cv2.cvtColor(image, cv2.COLOR_BGR2RGB)\n",
        "                results = hands.process(image_rgb)\n",
        "                if results.multi_hand_landmarks:\n",
        "                    for hand_landmarks in results.multi_hand_landmarks:\n",
        "                        # Extract hand landmarks\n",
        "                        landmarks = [[lm.x, lm.y, lm.z] for lm in hand_landmarks.landmark]\n",
        "                        x.append(landmarks)\n",
        "                        y.append(signLabel)\n",
        "            cap.release()\n",
        "    return np.array(x), np.array(y)"
      ]
    },
    {
      "cell_type": "markdown",
      "metadata": {},
      "source": [
        "**loading data**"
      ]
    },
    {
      "cell_type": "code",
      "execution_count": 5,
      "metadata": {
        "id": "L3NGwZdabVxy"
      },
      "outputs": [],
      "source": [
        "x, y = load_dataset(dataset)"
      ]
    },
    {
      "cell_type": "code",
      "execution_count": 6,
      "metadata": {
        "colab": {
          "base_uri": "https://localhost:8080/"
        },
        "id": "7UuQDNFNgMan",
        "outputId": "9f9e0538-2a19-4739-a6ee-f43b6ce56625"
      },
      "outputs": [
        {
          "name": "stdout",
          "output_type": "stream",
          "text": [
            "[[[ 2.42535606e-01  8.53370547e-01  7.34941139e-08]\n",
            "  [ 2.19930798e-01  8.41227353e-01 -5.04050916e-03]\n",
            "  [ 2.03145429e-01  8.16498935e-01 -8.54440592e-03]\n",
            "  ...\n",
            "  [ 2.31028110e-01  7.55015373e-01 -1.51680605e-02]\n",
            "  [ 2.27058828e-01  7.39709914e-01 -1.49981370e-02]\n",
            "  [ 2.23591894e-01  7.27897763e-01 -1.47238644e-02]]\n",
            "\n",
            " [[ 2.24047184e-01  7.71708548e-01  5.84391771e-08]\n",
            "  [ 2.07625344e-01  7.59727478e-01 -1.12437978e-02]\n",
            "  [ 1.94187164e-01  7.35766709e-01 -1.84973069e-02]\n",
            "  ...\n",
            "  [ 2.17151150e-01  6.38982773e-01 -2.09469590e-02]\n",
            "  [ 2.13120580e-01  6.20126247e-01 -2.21872851e-02]\n",
            "  [ 2.08582625e-01  6.03395164e-01 -2.30736602e-02]]\n",
            "\n",
            " [[ 2.08527192e-01  7.01337576e-01  9.98239642e-08]\n",
            "  [ 2.18214244e-01  6.80169284e-01 -1.38707813e-02]\n",
            "  [ 2.20340073e-01  6.47959113e-01 -2.04064250e-02]\n",
            "  ...\n",
            "  [ 1.65295199e-01  5.72248399e-01 -1.71006657e-02]\n",
            "  [ 1.61938608e-01  5.49961507e-01 -1.88091472e-02]\n",
            "  [ 1.59681991e-01  5.28560638e-01 -1.96698569e-02]]\n",
            "\n",
            " ...\n",
            "\n",
            " [[ 3.91072392e-01  6.41339600e-01 -1.96984843e-07]\n",
            "  [ 4.34457302e-01  6.09543383e-01  1.87488867e-03]\n",
            "  [ 4.62517560e-01  5.78087389e-01 -1.33732855e-02]\n",
            "  ...\n",
            "  [ 4.08695310e-01  5.99719763e-01 -1.05157174e-01]\n",
            "  [ 4.25350726e-01  6.15280926e-01 -9.26648527e-02]\n",
            "  [ 4.16817337e-01  6.23809099e-01 -7.73831606e-02]]\n",
            "\n",
            " [[ 3.86284590e-01  6.39773607e-01 -2.34431496e-07]\n",
            "  [ 4.31386352e-01  6.08119369e-01  2.57097394e-03]\n",
            "  [ 4.61305499e-01  5.76981127e-01 -1.18196784e-02]\n",
            "  ...\n",
            "  [ 4.10907924e-01  5.98084092e-01 -1.02249116e-01]\n",
            "  [ 4.25924391e-01  6.13514304e-01 -8.98240134e-02]\n",
            "  [ 4.16690379e-01  6.21865392e-01 -7.47447163e-02]]\n",
            "\n",
            " [[ 3.88673753e-01  6.39724135e-01 -2.20319762e-07]\n",
            "  [ 4.34210569e-01  6.08144581e-01  2.96098739e-03]\n",
            "  [ 4.63170171e-01  5.77218115e-01 -1.18758529e-02]\n",
            "  ...\n",
            "  [ 4.11649793e-01  5.97205102e-01 -1.03996351e-01]\n",
            "  [ 4.27935481e-01  6.13561869e-01 -9.01505649e-02]\n",
            "  [ 4.20020908e-01  6.22643828e-01 -7.38869011e-02]]]\n"
          ]
        }
      ],
      "source": [
        "print(x)"
      ]
    },
    {
      "cell_type": "code",
      "execution_count": 7,
      "metadata": {
        "colab": {
          "base_uri": "https://localhost:8080/"
        },
        "id": "60XPLN_0gQov",
        "outputId": "81d53f8a-44fd-4339-ce01-d9b3eda02f36"
      },
      "outputs": [
        {
          "name": "stdout",
          "output_type": "stream",
          "text": [
            "['Busy' 'Busy' 'Busy' ... 'Who' 'Who' 'Who']\n"
          ]
        }
      ],
      "source": [
        "print(y)"
      ]
    },
    {
      "cell_type": "markdown",
      "metadata": {},
      "source": [
        "**Change the label's names to numerical values**"
      ]
    },
    {
      "cell_type": "code",
      "execution_count": 8,
      "metadata": {
        "colab": {
          "base_uri": "https://localhost:8080/"
        },
        "id": "IexYFdGbejqu",
        "outputId": "22b9c70b-4cf0-4365-8ffd-138d8fc1a2f1"
      },
      "outputs": [
        {
          "name": "stdout",
          "output_type": "stream",
          "text": [
            "['0' '0' '0' ... '9' '9' '9']\n"
          ]
        }
      ],
      "source": [
        "for i in range(y.size):\n",
        "  if y[i] == 'Busy':\n",
        "    y[i] = 0\n",
        "  elif y[i] == 'Chair':\n",
        "    y[i] = 1\n",
        "  elif y[i] == 'Excuse me':\n",
        "    y[i] = 2\n",
        "  elif y[i] == 'Goodbye':\n",
        "    y[i] = 3\n",
        "  elif y[i] == 'I am fine':\n",
        "    y[i] = 4\n",
        "  elif y[i] == 'I am tired':\n",
        "    y[i] = 5\n",
        "  elif y[i] == \"I don't know\":\n",
        "    y[i] = 6\n",
        "  elif y[i] == 'Internet':\n",
        "    y[i] = 7\n",
        "  elif y[i] == 'Take care':\n",
        "    y[i] = 8\n",
        "  elif y[i] == \"Who\":\n",
        "    y[i] = 9\n",
        "  else:\n",
        "    y[i] = -1\n",
        "\n",
        "print(y)"
      ]
    },
    {
      "cell_type": "code",
      "execution_count": 9,
      "metadata": {
        "colab": {
          "base_uri": "https://localhost:8080/"
        },
        "id": "gDsfYZqdebYK",
        "outputId": "e04d95b0-7452-4060-f16f-1021ce03ae8f"
      },
      "outputs": [
        {
          "name": "stdout",
          "output_type": "stream",
          "text": [
            "30897\n"
          ]
        }
      ],
      "source": [
        "print(len(y))\n",
        "\n"
      ]
    },
    {
      "cell_type": "markdown",
      "metadata": {},
      "source": [
        "**Making sure that the x and y is np.float32**"
      ]
    },
    {
      "cell_type": "code",
      "execution_count": 12,
      "metadata": {
        "id": "boGFYYOJhQLz"
      },
      "outputs": [],
      "source": [
        "if x.dtype != np.float32:\n",
        "    x = x.astype(np.float32)\n",
        "if y.dtype != np.float32:\n",
        "    y = y.astype(np.float32)"
      ]
    },
    {
      "cell_type": "markdown",
      "metadata": {},
      "source": [
        "**Divide the dataset into train data and test data**"
      ]
    },
    {
      "cell_type": "code",
      "execution_count": 13,
      "metadata": {
        "id": "OM2xe-33hUaV"
      },
      "outputs": [],
      "source": [
        "X_train, X_test, y_train, y_test = train_test_split(x, y, test_size=0.2, random_state=42)"
      ]
    },
    {
      "cell_type": "markdown",
      "metadata": {},
      "source": [
        "**Building the model**"
      ]
    },
    {
      "cell_type": "code",
      "execution_count": 14,
      "metadata": {
        "id": "IxeTbpizjIW_"
      },
      "outputs": [],
      "source": [
        "model = tf.keras.Sequential([\n",
        "    tf.keras.layers.Input(shape=(X_train.shape[1], X_train.shape[2])),\n",
        "    tf.keras.layers.Conv1D(64, kernel_size=3, activation='relu'),\n",
        "    tf.keras.layers.MaxPooling1D(pool_size=2),\n",
        "    tf.keras.layers.Conv1D(128, kernel_size=3, activation='relu'),\n",
        "    tf.keras.layers.MaxPooling1D(pool_size=2),\n",
        "    tf.keras.layers.Flatten(),\n",
        "    tf.keras.layers.Dense(256, activation='relu'),\n",
        "    tf.keras.layers.Dropout(0.5),\n",
        "    tf.keras.layers.Dense(NUM_CLASSES, activation='softmax')\n",
        "])"
      ]
    },
    {
      "cell_type": "code",
      "execution_count": 15,
      "metadata": {
        "colab": {
          "base_uri": "https://localhost:8080/"
        },
        "id": "agQouhhkjOhA",
        "outputId": "ad671c7d-3f1e-4eb5-8161-90de300da1ed"
      },
      "outputs": [
        {
          "data": {
            "text/html": [
              "<pre style=\"white-space:pre;overflow-x:auto;line-height:normal;font-family:Menlo,'DejaVu Sans Mono',consolas,'Courier New',monospace\"><span style=\"font-weight: bold\">Model: \"sequential\"</span>\n",
              "</pre>\n"
            ],
            "text/plain": [
              "\u001b[1mModel: \"sequential\"\u001b[0m\n"
            ]
          },
          "metadata": {},
          "output_type": "display_data"
        },
        {
          "data": {
            "text/html": [
              "<pre style=\"white-space:pre;overflow-x:auto;line-height:normal;font-family:Menlo,'DejaVu Sans Mono',consolas,'Courier New',monospace\">┏━━━━━━━━━━━━━━━━━━━━━━━━━━━━━━━━━┳━━━━━━━━━━━━━━━━━━━━━━━━┳━━━━━━━━━━━━━━━┓\n",
              "┃<span style=\"font-weight: bold\"> Layer (type)                    </span>┃<span style=\"font-weight: bold\"> Output Shape           </span>┃<span style=\"font-weight: bold\">       Param # </span>┃\n",
              "┡━━━━━━━━━━━━━━━━━━━━━━━━━━━━━━━━━╇━━━━━━━━━━━━━━━━━━━━━━━━╇━━━━━━━━━━━━━━━┩\n",
              "│ conv1d (<span style=\"color: #0087ff; text-decoration-color: #0087ff\">Conv1D</span>)                 │ (<span style=\"color: #00d7ff; text-decoration-color: #00d7ff\">None</span>, <span style=\"color: #00af00; text-decoration-color: #00af00\">19</span>, <span style=\"color: #00af00; text-decoration-color: #00af00\">64</span>)         │           <span style=\"color: #00af00; text-decoration-color: #00af00\">640</span> │\n",
              "├─────────────────────────────────┼────────────────────────┼───────────────┤\n",
              "│ max_pooling1d (<span style=\"color: #0087ff; text-decoration-color: #0087ff\">MaxPooling1D</span>)    │ (<span style=\"color: #00d7ff; text-decoration-color: #00d7ff\">None</span>, <span style=\"color: #00af00; text-decoration-color: #00af00\">9</span>, <span style=\"color: #00af00; text-decoration-color: #00af00\">64</span>)          │             <span style=\"color: #00af00; text-decoration-color: #00af00\">0</span> │\n",
              "├─────────────────────────────────┼────────────────────────┼───────────────┤\n",
              "│ conv1d_1 (<span style=\"color: #0087ff; text-decoration-color: #0087ff\">Conv1D</span>)               │ (<span style=\"color: #00d7ff; text-decoration-color: #00d7ff\">None</span>, <span style=\"color: #00af00; text-decoration-color: #00af00\">7</span>, <span style=\"color: #00af00; text-decoration-color: #00af00\">128</span>)         │        <span style=\"color: #00af00; text-decoration-color: #00af00\">24,704</span> │\n",
              "├─────────────────────────────────┼────────────────────────┼───────────────┤\n",
              "│ max_pooling1d_1 (<span style=\"color: #0087ff; text-decoration-color: #0087ff\">MaxPooling1D</span>)  │ (<span style=\"color: #00d7ff; text-decoration-color: #00d7ff\">None</span>, <span style=\"color: #00af00; text-decoration-color: #00af00\">3</span>, <span style=\"color: #00af00; text-decoration-color: #00af00\">128</span>)         │             <span style=\"color: #00af00; text-decoration-color: #00af00\">0</span> │\n",
              "├─────────────────────────────────┼────────────────────────┼───────────────┤\n",
              "│ flatten (<span style=\"color: #0087ff; text-decoration-color: #0087ff\">Flatten</span>)               │ (<span style=\"color: #00d7ff; text-decoration-color: #00d7ff\">None</span>, <span style=\"color: #00af00; text-decoration-color: #00af00\">384</span>)            │             <span style=\"color: #00af00; text-decoration-color: #00af00\">0</span> │\n",
              "├─────────────────────────────────┼────────────────────────┼───────────────┤\n",
              "│ dense (<span style=\"color: #0087ff; text-decoration-color: #0087ff\">Dense</span>)                   │ (<span style=\"color: #00d7ff; text-decoration-color: #00d7ff\">None</span>, <span style=\"color: #00af00; text-decoration-color: #00af00\">256</span>)            │        <span style=\"color: #00af00; text-decoration-color: #00af00\">98,560</span> │\n",
              "├─────────────────────────────────┼────────────────────────┼───────────────┤\n",
              "│ dropout (<span style=\"color: #0087ff; text-decoration-color: #0087ff\">Dropout</span>)               │ (<span style=\"color: #00d7ff; text-decoration-color: #00d7ff\">None</span>, <span style=\"color: #00af00; text-decoration-color: #00af00\">256</span>)            │             <span style=\"color: #00af00; text-decoration-color: #00af00\">0</span> │\n",
              "├─────────────────────────────────┼────────────────────────┼───────────────┤\n",
              "│ dense_1 (<span style=\"color: #0087ff; text-decoration-color: #0087ff\">Dense</span>)                 │ (<span style=\"color: #00d7ff; text-decoration-color: #00d7ff\">None</span>, <span style=\"color: #00af00; text-decoration-color: #00af00\">10</span>)             │         <span style=\"color: #00af00; text-decoration-color: #00af00\">2,570</span> │\n",
              "└─────────────────────────────────┴────────────────────────┴───────────────┘\n",
              "</pre>\n"
            ],
            "text/plain": [
              "┏━━━━━━━━━━━━━━━━━━━━━━━━━━━━━━━━━┳━━━━━━━━━━━━━━━━━━━━━━━━┳━━━━━━━━━━━━━━━┓\n",
              "┃\u001b[1m \u001b[0m\u001b[1mLayer (type)                   \u001b[0m\u001b[1m \u001b[0m┃\u001b[1m \u001b[0m\u001b[1mOutput Shape          \u001b[0m\u001b[1m \u001b[0m┃\u001b[1m \u001b[0m\u001b[1m      Param #\u001b[0m\u001b[1m \u001b[0m┃\n",
              "┡━━━━━━━━━━━━━━━━━━━━━━━━━━━━━━━━━╇━━━━━━━━━━━━━━━━━━━━━━━━╇━━━━━━━━━━━━━━━┩\n",
              "│ conv1d (\u001b[38;5;33mConv1D\u001b[0m)                 │ (\u001b[38;5;45mNone\u001b[0m, \u001b[38;5;34m19\u001b[0m, \u001b[38;5;34m64\u001b[0m)         │           \u001b[38;5;34m640\u001b[0m │\n",
              "├─────────────────────────────────┼────────────────────────┼───────────────┤\n",
              "│ max_pooling1d (\u001b[38;5;33mMaxPooling1D\u001b[0m)    │ (\u001b[38;5;45mNone\u001b[0m, \u001b[38;5;34m9\u001b[0m, \u001b[38;5;34m64\u001b[0m)          │             \u001b[38;5;34m0\u001b[0m │\n",
              "├─────────────────────────────────┼────────────────────────┼───────────────┤\n",
              "│ conv1d_1 (\u001b[38;5;33mConv1D\u001b[0m)               │ (\u001b[38;5;45mNone\u001b[0m, \u001b[38;5;34m7\u001b[0m, \u001b[38;5;34m128\u001b[0m)         │        \u001b[38;5;34m24,704\u001b[0m │\n",
              "├─────────────────────────────────┼────────────────────────┼───────────────┤\n",
              "│ max_pooling1d_1 (\u001b[38;5;33mMaxPooling1D\u001b[0m)  │ (\u001b[38;5;45mNone\u001b[0m, \u001b[38;5;34m3\u001b[0m, \u001b[38;5;34m128\u001b[0m)         │             \u001b[38;5;34m0\u001b[0m │\n",
              "├─────────────────────────────────┼────────────────────────┼───────────────┤\n",
              "│ flatten (\u001b[38;5;33mFlatten\u001b[0m)               │ (\u001b[38;5;45mNone\u001b[0m, \u001b[38;5;34m384\u001b[0m)            │             \u001b[38;5;34m0\u001b[0m │\n",
              "├─────────────────────────────────┼────────────────────────┼───────────────┤\n",
              "│ dense (\u001b[38;5;33mDense\u001b[0m)                   │ (\u001b[38;5;45mNone\u001b[0m, \u001b[38;5;34m256\u001b[0m)            │        \u001b[38;5;34m98,560\u001b[0m │\n",
              "├─────────────────────────────────┼────────────────────────┼───────────────┤\n",
              "│ dropout (\u001b[38;5;33mDropout\u001b[0m)               │ (\u001b[38;5;45mNone\u001b[0m, \u001b[38;5;34m256\u001b[0m)            │             \u001b[38;5;34m0\u001b[0m │\n",
              "├─────────────────────────────────┼────────────────────────┼───────────────┤\n",
              "│ dense_1 (\u001b[38;5;33mDense\u001b[0m)                 │ (\u001b[38;5;45mNone\u001b[0m, \u001b[38;5;34m10\u001b[0m)             │         \u001b[38;5;34m2,570\u001b[0m │\n",
              "└─────────────────────────────────┴────────────────────────┴───────────────┘\n"
            ]
          },
          "metadata": {},
          "output_type": "display_data"
        },
        {
          "data": {
            "text/html": [
              "<pre style=\"white-space:pre;overflow-x:auto;line-height:normal;font-family:Menlo,'DejaVu Sans Mono',consolas,'Courier New',monospace\"><span style=\"font-weight: bold\"> Total params: </span><span style=\"color: #00af00; text-decoration-color: #00af00\">126,474</span> (494.04 KB)\n",
              "</pre>\n"
            ],
            "text/plain": [
              "\u001b[1m Total params: \u001b[0m\u001b[38;5;34m126,474\u001b[0m (494.04 KB)\n"
            ]
          },
          "metadata": {},
          "output_type": "display_data"
        },
        {
          "data": {
            "text/html": [
              "<pre style=\"white-space:pre;overflow-x:auto;line-height:normal;font-family:Menlo,'DejaVu Sans Mono',consolas,'Courier New',monospace\"><span style=\"font-weight: bold\"> Trainable params: </span><span style=\"color: #00af00; text-decoration-color: #00af00\">126,474</span> (494.04 KB)\n",
              "</pre>\n"
            ],
            "text/plain": [
              "\u001b[1m Trainable params: \u001b[0m\u001b[38;5;34m126,474\u001b[0m (494.04 KB)\n"
            ]
          },
          "metadata": {},
          "output_type": "display_data"
        },
        {
          "data": {
            "text/html": [
              "<pre style=\"white-space:pre;overflow-x:auto;line-height:normal;font-family:Menlo,'DejaVu Sans Mono',consolas,'Courier New',monospace\"><span style=\"font-weight: bold\"> Non-trainable params: </span><span style=\"color: #00af00; text-decoration-color: #00af00\">0</span> (0.00 B)\n",
              "</pre>\n"
            ],
            "text/plain": [
              "\u001b[1m Non-trainable params: \u001b[0m\u001b[38;5;34m0\u001b[0m (0.00 B)\n"
            ]
          },
          "metadata": {},
          "output_type": "display_data"
        }
      ],
      "source": [
        "model.summary()"
      ]
    },
    {
      "cell_type": "markdown",
      "metadata": {},
      "source": [
        "**Compile the model**"
      ]
    },
    {
      "cell_type": "code",
      "execution_count": 16,
      "metadata": {
        "id": "m3dzGKVhjf4r"
      },
      "outputs": [],
      "source": [
        "model.compile(\n",
        "    optimizer='adam',\n",
        "    loss='sparse_categorical_crossentropy',\n",
        "    metrics=['accuracy'])"
      ]
    },
    {
      "cell_type": "markdown",
      "metadata": {},
      "source": [
        "**Defining the call back function**"
      ]
    },
    {
      "cell_type": "code",
      "execution_count": 17,
      "metadata": {},
      "outputs": [],
      "source": [
        "cp_callback = tf.keras.callbacks.ModelCheckpoint(\n",
        "    model_save_path, verbose=1, save_weights_only=False)\n",
        "# Callback for early stopping\n",
        "es_callback = tf.keras.callbacks.EarlyStopping(patience=20, verbose=1)"
      ]
    },
    {
      "cell_type": "markdown",
      "metadata": {},
      "source": [
        "**Training the model**"
      ]
    },
    {
      "cell_type": "code",
      "execution_count": 18,
      "metadata": {
        "colab": {
          "base_uri": "https://localhost:8080/"
        },
        "id": "ae2mRFmZjzYf",
        "outputId": "96bad460-a099-47b4-9f36-bd272a95cbe6"
      },
      "outputs": [
        {
          "name": "stdout",
          "output_type": "stream",
          "text": [
            "Epoch 1/200\n",
            "\u001b[1m307/309\u001b[0m \u001b[32m━━━━━━━━━━━━━━━━━━━\u001b[0m\u001b[37m━\u001b[0m \u001b[1m0s\u001b[0m 11ms/step - accuracy: 0.2886 - loss: 1.9438\n",
            "Epoch 1: saving model to The saved model/model.keras\n",
            "\u001b[1m309/309\u001b[0m \u001b[32m━━━━━━━━━━━━━━━━━━━━\u001b[0m\u001b[37m\u001b[0m \u001b[1m7s\u001b[0m 14ms/step - accuracy: 0.2898 - loss: 1.9411 - val_accuracy: 0.5975 - val_loss: 1.1427\n",
            "Epoch 2/200\n",
            "\u001b[1m303/309\u001b[0m \u001b[32m━━━━━━━━━━━━━━━━━━━\u001b[0m\u001b[37m━\u001b[0m \u001b[1m0s\u001b[0m 10ms/step - accuracy: 0.6237 - loss: 1.0773\n",
            "Epoch 2: saving model to The saved model/model.keras\n",
            "\u001b[1m309/309\u001b[0m \u001b[32m━━━━━━━━━━━━━━━━━━━━\u001b[0m\u001b[37m\u001b[0m \u001b[1m4s\u001b[0m 11ms/step - accuracy: 0.6244 - loss: 1.0750 - val_accuracy: 0.7615 - val_loss: 0.7242\n",
            "Epoch 3/200\n",
            "\u001b[1m305/309\u001b[0m \u001b[32m━━━━━━━━━━━━━━━━━━━\u001b[0m\u001b[37m━\u001b[0m \u001b[1m0s\u001b[0m 10ms/step - accuracy: 0.7557 - loss: 0.7301\n",
            "Epoch 3: saving model to The saved model/model.keras\n",
            "\u001b[1m309/309\u001b[0m \u001b[32m━━━━━━━━━━━━━━━━━━━━\u001b[0m\u001b[37m\u001b[0m \u001b[1m4s\u001b[0m 11ms/step - accuracy: 0.7560 - loss: 0.7294 - val_accuracy: 0.8758 - val_loss: 0.4963\n",
            "Epoch 4/200\n",
            "\u001b[1m309/309\u001b[0m \u001b[32m━━━━━━━━━━━━━━━━━━━━\u001b[0m\u001b[37m\u001b[0m \u001b[1m0s\u001b[0m 10ms/step - accuracy: 0.8435 - loss: 0.5136\n",
            "Epoch 4: saving model to The saved model/model.keras\n",
            "\u001b[1m309/309\u001b[0m \u001b[32m━━━━━━━━━━━━━━━━━━━━\u001b[0m\u001b[37m\u001b[0m \u001b[1m4s\u001b[0m 12ms/step - accuracy: 0.8435 - loss: 0.5135 - val_accuracy: 0.9221 - val_loss: 0.3347\n",
            "Epoch 5/200\n",
            "\u001b[1m308/309\u001b[0m \u001b[32m━━━━━━━━━━━━━━━━━━━\u001b[0m\u001b[37m━\u001b[0m \u001b[1m0s\u001b[0m 10ms/step - accuracy: 0.8886 - loss: 0.3867\n",
            "Epoch 5: saving model to The saved model/model.keras\n",
            "\u001b[1m309/309\u001b[0m \u001b[32m━━━━━━━━━━━━━━━━━━━━\u001b[0m\u001b[37m\u001b[0m \u001b[1m4s\u001b[0m 12ms/step - accuracy: 0.8886 - loss: 0.3865 - val_accuracy: 0.9385 - val_loss: 0.2779\n",
            "Epoch 6/200\n",
            "\u001b[1m309/309\u001b[0m \u001b[32m━━━━━━━━━━━━━━━━━━━━\u001b[0m\u001b[37m\u001b[0m \u001b[1m0s\u001b[0m 10ms/step - accuracy: 0.9164 - loss: 0.3063\n",
            "Epoch 6: saving model to The saved model/model.keras\n",
            "\u001b[1m309/309\u001b[0m \u001b[32m━━━━━━━━━━━━━━━━━━━━\u001b[0m\u001b[37m\u001b[0m \u001b[1m4s\u001b[0m 11ms/step - accuracy: 0.9164 - loss: 0.3062 - val_accuracy: 0.9517 - val_loss: 0.2210\n",
            "Epoch 7/200\n",
            "\u001b[1m309/309\u001b[0m \u001b[32m━━━━━━━━━━━━━━━━━━━━\u001b[0m\u001b[37m\u001b[0m \u001b[1m0s\u001b[0m 10ms/step - accuracy: 0.9298 - loss: 0.2588\n",
            "Epoch 7: saving model to The saved model/model.keras\n",
            "\u001b[1m309/309\u001b[0m \u001b[32m━━━━━━━━━━━━━━━━━━━━\u001b[0m\u001b[37m\u001b[0m \u001b[1m4s\u001b[0m 12ms/step - accuracy: 0.9298 - loss: 0.2588 - val_accuracy: 0.9502 - val_loss: 0.2082\n",
            "Epoch 8/200\n",
            "\u001b[1m309/309\u001b[0m \u001b[32m━━━━━━━━━━━━━━━━━━━━\u001b[0m\u001b[37m\u001b[0m \u001b[1m0s\u001b[0m 10ms/step - accuracy: 0.9409 - loss: 0.2198\n",
            "Epoch 8: saving model to The saved model/model.keras\n",
            "\u001b[1m309/309\u001b[0m \u001b[32m━━━━━━━━━━━━━━━━━━━━\u001b[0m\u001b[37m\u001b[0m \u001b[1m4s\u001b[0m 12ms/step - accuracy: 0.9409 - loss: 0.2198 - val_accuracy: 0.9624 - val_loss: 0.1748\n",
            "Epoch 9/200\n",
            "\u001b[1m305/309\u001b[0m \u001b[32m━━━━━━━━━━━━━━━━━━━\u001b[0m\u001b[37m━\u001b[0m \u001b[1m0s\u001b[0m 10ms/step - accuracy: 0.9466 - loss: 0.2068\n",
            "Epoch 9: saving model to The saved model/model.keras\n",
            "\u001b[1m309/309\u001b[0m \u001b[32m━━━━━━━━━━━━━━━━━━━━\u001b[0m\u001b[37m\u001b[0m \u001b[1m4s\u001b[0m 12ms/step - accuracy: 0.9467 - loss: 0.2066 - val_accuracy: 0.9506 - val_loss: 0.2106\n",
            "Epoch 10/200\n",
            "\u001b[1m308/309\u001b[0m \u001b[32m━━━━━━━━━━━━━━━━━━━\u001b[0m\u001b[37m━\u001b[0m \u001b[1m0s\u001b[0m 10ms/step - accuracy: 0.9500 - loss: 0.1891\n",
            "Epoch 10: saving model to The saved model/model.keras\n",
            "\u001b[1m309/309\u001b[0m \u001b[32m━━━━━━━━━━━━━━━━━━━━\u001b[0m\u001b[37m\u001b[0m \u001b[1m4s\u001b[0m 12ms/step - accuracy: 0.9500 - loss: 0.1890 - val_accuracy: 0.9686 - val_loss: 0.1339\n",
            "Epoch 11/200\n",
            "\u001b[1m308/309\u001b[0m \u001b[32m━━━━━━━━━━━━━━━━━━━\u001b[0m\u001b[37m━\u001b[0m \u001b[1m0s\u001b[0m 11ms/step - accuracy: 0.9531 - loss: 0.1703\n",
            "Epoch 11: saving model to The saved model/model.keras\n",
            "\u001b[1m309/309\u001b[0m \u001b[32m━━━━━━━━━━━━━━━━━━━━\u001b[0m\u001b[37m\u001b[0m \u001b[1m4s\u001b[0m 12ms/step - accuracy: 0.9531 - loss: 0.1702 - val_accuracy: 0.9703 - val_loss: 0.1266\n",
            "Epoch 12/200\n",
            "\u001b[1m307/309\u001b[0m \u001b[32m━━━━━━━━━━━━━━━━━━━\u001b[0m\u001b[37m━\u001b[0m \u001b[1m0s\u001b[0m 10ms/step - accuracy: 0.9628 - loss: 0.1474\n",
            "Epoch 12: saving model to The saved model/model.keras\n",
            "\u001b[1m309/309\u001b[0m \u001b[32m━━━━━━━━━━━━━━━━━━━━\u001b[0m\u001b[37m\u001b[0m \u001b[1m4s\u001b[0m 12ms/step - accuracy: 0.9628 - loss: 0.1474 - val_accuracy: 0.9703 - val_loss: 0.1250\n",
            "Epoch 13/200\n",
            "\u001b[1m306/309\u001b[0m \u001b[32m━━━━━━━━━━━━━━━━━━━\u001b[0m\u001b[37m━\u001b[0m \u001b[1m0s\u001b[0m 11ms/step - accuracy: 0.9588 - loss: 0.1508\n",
            "Epoch 13: saving model to The saved model/model.keras\n",
            "\u001b[1m309/309\u001b[0m \u001b[32m━━━━━━━━━━━━━━━━━━━━\u001b[0m\u001b[37m\u001b[0m \u001b[1m4s\u001b[0m 12ms/step - accuracy: 0.9588 - loss: 0.1507 - val_accuracy: 0.9686 - val_loss: 0.1259\n",
            "Epoch 14/200\n",
            "\u001b[1m304/309\u001b[0m \u001b[32m━━━━━━━━━━━━━━━━━━━\u001b[0m\u001b[37m━\u001b[0m \u001b[1m0s\u001b[0m 10ms/step - accuracy: 0.9593 - loss: 0.1424\n",
            "Epoch 14: saving model to The saved model/model.keras\n",
            "\u001b[1m309/309\u001b[0m \u001b[32m━━━━━━━━━━━━━━━━━━━━\u001b[0m\u001b[37m\u001b[0m \u001b[1m4s\u001b[0m 12ms/step - accuracy: 0.9593 - loss: 0.1423 - val_accuracy: 0.9721 - val_loss: 0.1060\n",
            "Epoch 15/200\n",
            "\u001b[1m308/309\u001b[0m \u001b[32m━━━━━━━━━━━━━━━━━━━\u001b[0m\u001b[37m━\u001b[0m \u001b[1m0s\u001b[0m 11ms/step - accuracy: 0.9671 - loss: 0.1256\n",
            "Epoch 15: saving model to The saved model/model.keras\n",
            "\u001b[1m309/309\u001b[0m \u001b[32m━━━━━━━━━━━━━━━━━━━━\u001b[0m\u001b[37m\u001b[0m \u001b[1m4s\u001b[0m 12ms/step - accuracy: 0.9671 - loss: 0.1256 - val_accuracy: 0.9737 - val_loss: 0.0988\n",
            "Epoch 16/200\n",
            "\u001b[1m305/309\u001b[0m \u001b[32m━━━━━━━━━━━━━━━━━━━\u001b[0m\u001b[37m━\u001b[0m \u001b[1m0s\u001b[0m 10ms/step - accuracy: 0.9667 - loss: 0.1138\n",
            "Epoch 16: saving model to The saved model/model.keras\n",
            "\u001b[1m309/309\u001b[0m \u001b[32m━━━━━━━━━━━━━━━━━━━━\u001b[0m\u001b[37m\u001b[0m \u001b[1m4s\u001b[0m 12ms/step - accuracy: 0.9667 - loss: 0.1138 - val_accuracy: 0.9713 - val_loss: 0.0983\n",
            "Epoch 17/200\n",
            "\u001b[1m306/309\u001b[0m \u001b[32m━━━━━━━━━━━━━━━━━━━\u001b[0m\u001b[37m━\u001b[0m \u001b[1m0s\u001b[0m 12ms/step - accuracy: 0.9700 - loss: 0.1134\n",
            "Epoch 17: saving model to The saved model/model.keras\n",
            "\u001b[1m309/309\u001b[0m \u001b[32m━━━━━━━━━━━━━━━━━━━━\u001b[0m\u001b[37m\u001b[0m \u001b[1m4s\u001b[0m 13ms/step - accuracy: 0.9700 - loss: 0.1134 - val_accuracy: 0.9792 - val_loss: 0.0818\n",
            "Epoch 18/200\n",
            "\u001b[1m308/309\u001b[0m \u001b[32m━━━━━━━━━━━━━━━━━━━\u001b[0m\u001b[37m━\u001b[0m \u001b[1m0s\u001b[0m 10ms/step - accuracy: 0.9709 - loss: 0.1046\n",
            "Epoch 18: saving model to The saved model/model.keras\n",
            "\u001b[1m309/309\u001b[0m \u001b[32m━━━━━━━━━━━━━━━━━━━━\u001b[0m\u001b[37m\u001b[0m \u001b[1m4s\u001b[0m 12ms/step - accuracy: 0.9709 - loss: 0.1046 - val_accuracy: 0.9818 - val_loss: 0.0730\n",
            "Epoch 19/200\n",
            "\u001b[1m308/309\u001b[0m \u001b[32m━━━━━━━━━━━━━━━━━━━\u001b[0m\u001b[37m━\u001b[0m \u001b[1m0s\u001b[0m 11ms/step - accuracy: 0.9707 - loss: 0.1038\n",
            "Epoch 19: saving model to The saved model/model.keras\n",
            "\u001b[1m309/309\u001b[0m \u001b[32m━━━━━━━━━━━━━━━━━━━━\u001b[0m\u001b[37m\u001b[0m \u001b[1m4s\u001b[0m 12ms/step - accuracy: 0.9707 - loss: 0.1037 - val_accuracy: 0.9786 - val_loss: 0.0822\n",
            "Epoch 20/200\n",
            "\u001b[1m305/309\u001b[0m \u001b[32m━━━━━━━━━━━━━━━━━━━\u001b[0m\u001b[37m━\u001b[0m \u001b[1m0s\u001b[0m 11ms/step - accuracy: 0.9703 - loss: 0.1011\n",
            "Epoch 20: saving model to The saved model/model.keras\n",
            "\u001b[1m309/309\u001b[0m \u001b[32m━━━━━━━━━━━━━━━━━━━━\u001b[0m\u001b[37m\u001b[0m \u001b[1m4s\u001b[0m 12ms/step - accuracy: 0.9704 - loss: 0.1010 - val_accuracy: 0.9812 - val_loss: 0.0728\n",
            "Epoch 21/200\n",
            "\u001b[1m305/309\u001b[0m \u001b[32m━━━━━━━━━━━━━━━━━━━\u001b[0m\u001b[37m━\u001b[0m \u001b[1m0s\u001b[0m 10ms/step - accuracy: 0.9757 - loss: 0.0853\n",
            "Epoch 21: saving model to The saved model/model.keras\n",
            "\u001b[1m309/309\u001b[0m \u001b[32m━━━━━━━━━━━━━━━━━━━━\u001b[0m\u001b[37m\u001b[0m \u001b[1m4s\u001b[0m 12ms/step - accuracy: 0.9757 - loss: 0.0853 - val_accuracy: 0.9836 - val_loss: 0.0634\n",
            "Epoch 22/200\n",
            "\u001b[1m308/309\u001b[0m \u001b[32m━━━━━━━━━━━━━━━━━━━\u001b[0m\u001b[37m━\u001b[0m \u001b[1m0s\u001b[0m 11ms/step - accuracy: 0.9745 - loss: 0.0880\n",
            "Epoch 22: saving model to The saved model/model.keras\n",
            "\u001b[1m309/309\u001b[0m \u001b[32m━━━━━━━━━━━━━━━━━━━━\u001b[0m\u001b[37m\u001b[0m \u001b[1m4s\u001b[0m 12ms/step - accuracy: 0.9745 - loss: 0.0880 - val_accuracy: 0.9820 - val_loss: 0.0609\n",
            "Epoch 23/200\n",
            "\u001b[1m307/309\u001b[0m \u001b[32m━━━━━━━━━━━━━━━━━━━\u001b[0m\u001b[37m━\u001b[0m \u001b[1m0s\u001b[0m 10ms/step - accuracy: 0.9746 - loss: 0.0825\n",
            "Epoch 23: saving model to The saved model/model.keras\n",
            "\u001b[1m309/309\u001b[0m \u001b[32m━━━━━━━━━━━━━━━━━━━━\u001b[0m\u001b[37m\u001b[0m \u001b[1m4s\u001b[0m 12ms/step - accuracy: 0.9747 - loss: 0.0825 - val_accuracy: 0.9816 - val_loss: 0.0642\n",
            "Epoch 24/200\n",
            "\u001b[1m308/309\u001b[0m \u001b[32m━━━━━━━━━━━━━━━━━━━\u001b[0m\u001b[37m━\u001b[0m \u001b[1m0s\u001b[0m 10ms/step - accuracy: 0.9797 - loss: 0.0684\n",
            "Epoch 24: saving model to The saved model/model.keras\n",
            "\u001b[1m309/309\u001b[0m \u001b[32m━━━━━━━━━━━━━━━━━━━━\u001b[0m\u001b[37m\u001b[0m \u001b[1m4s\u001b[0m 12ms/step - accuracy: 0.9797 - loss: 0.0684 - val_accuracy: 0.9846 - val_loss: 0.0560\n",
            "Epoch 25/200\n",
            "\u001b[1m307/309\u001b[0m \u001b[32m━━━━━━━━━━━━━━━━━━━\u001b[0m\u001b[37m━\u001b[0m \u001b[1m0s\u001b[0m 10ms/step - accuracy: 0.9779 - loss: 0.0762\n",
            "Epoch 25: saving model to The saved model/model.keras\n",
            "\u001b[1m309/309\u001b[0m \u001b[32m━━━━━━━━━━━━━━━━━━━━\u001b[0m\u001b[37m\u001b[0m \u001b[1m4s\u001b[0m 12ms/step - accuracy: 0.9779 - loss: 0.0762 - val_accuracy: 0.9844 - val_loss: 0.0571\n",
            "Epoch 26/200\n",
            "\u001b[1m307/309\u001b[0m \u001b[32m━━━━━━━━━━━━━━━━━━━\u001b[0m\u001b[37m━\u001b[0m \u001b[1m0s\u001b[0m 10ms/step - accuracy: 0.9803 - loss: 0.0644\n",
            "Epoch 26: saving model to The saved model/model.keras\n",
            "\u001b[1m309/309\u001b[0m \u001b[32m━━━━━━━━━━━━━━━━━━━━\u001b[0m\u001b[37m\u001b[0m \u001b[1m4s\u001b[0m 12ms/step - accuracy: 0.9803 - loss: 0.0644 - val_accuracy: 0.9864 - val_loss: 0.0482\n",
            "Epoch 27/200\n",
            "\u001b[1m308/309\u001b[0m \u001b[32m━━━━━━━━━━━━━━━━━━━\u001b[0m\u001b[37m━\u001b[0m \u001b[1m0s\u001b[0m 11ms/step - accuracy: 0.9781 - loss: 0.0759\n",
            "Epoch 27: saving model to The saved model/model.keras\n",
            "\u001b[1m309/309\u001b[0m \u001b[32m━━━━━━━━━━━━━━━━━━━━\u001b[0m\u001b[37m\u001b[0m \u001b[1m4s\u001b[0m 12ms/step - accuracy: 0.9781 - loss: 0.0758 - val_accuracy: 0.9854 - val_loss: 0.0536\n",
            "Epoch 28/200\n",
            "\u001b[1m309/309\u001b[0m \u001b[32m━━━━━━━━━━━━━━━━━━━━\u001b[0m\u001b[37m\u001b[0m \u001b[1m0s\u001b[0m 10ms/step - accuracy: 0.9802 - loss: 0.0619\n",
            "Epoch 28: saving model to The saved model/model.keras\n",
            "\u001b[1m309/309\u001b[0m \u001b[32m━━━━━━━━━━━━━━━━━━━━\u001b[0m\u001b[37m\u001b[0m \u001b[1m4s\u001b[0m 12ms/step - accuracy: 0.9802 - loss: 0.0619 - val_accuracy: 0.9873 - val_loss: 0.0462\n",
            "Epoch 29/200\n",
            "\u001b[1m307/309\u001b[0m \u001b[32m━━━━━━━━━━━━━━━━━━━\u001b[0m\u001b[37m━\u001b[0m \u001b[1m0s\u001b[0m 11ms/step - accuracy: 0.9822 - loss: 0.0567\n",
            "Epoch 29: saving model to The saved model/model.keras\n",
            "\u001b[1m309/309\u001b[0m \u001b[32m━━━━━━━━━━━━━━━━━━━━\u001b[0m\u001b[37m\u001b[0m \u001b[1m4s\u001b[0m 12ms/step - accuracy: 0.9822 - loss: 0.0567 - val_accuracy: 0.9867 - val_loss: 0.0507\n",
            "Epoch 30/200\n",
            "\u001b[1m305/309\u001b[0m \u001b[32m━━━━━━━━━━━━━━━━━━━\u001b[0m\u001b[37m━\u001b[0m \u001b[1m0s\u001b[0m 10ms/step - accuracy: 0.9843 - loss: 0.0533\n",
            "Epoch 30: saving model to The saved model/model.keras\n",
            "\u001b[1m309/309\u001b[0m \u001b[32m━━━━━━━━━━━━━━━━━━━━\u001b[0m\u001b[37m\u001b[0m \u001b[1m4s\u001b[0m 12ms/step - accuracy: 0.9843 - loss: 0.0535 - val_accuracy: 0.9862 - val_loss: 0.0469\n",
            "Epoch 31/200\n",
            "\u001b[1m306/309\u001b[0m \u001b[32m━━━━━━━━━━━━━━━━━━━\u001b[0m\u001b[37m━\u001b[0m \u001b[1m0s\u001b[0m 10ms/step - accuracy: 0.9825 - loss: 0.0615\n",
            "Epoch 31: saving model to The saved model/model.keras\n",
            "\u001b[1m309/309\u001b[0m \u001b[32m━━━━━━━━━━━━━━━━━━━━\u001b[0m\u001b[37m\u001b[0m \u001b[1m4s\u001b[0m 12ms/step - accuracy: 0.9825 - loss: 0.0615 - val_accuracy: 0.9871 - val_loss: 0.0402\n",
            "Epoch 32/200\n",
            "\u001b[1m309/309\u001b[0m \u001b[32m━━━━━━━━━━━━━━━━━━━━\u001b[0m\u001b[37m\u001b[0m \u001b[1m0s\u001b[0m 11ms/step - accuracy: 0.9834 - loss: 0.0550\n",
            "Epoch 32: saving model to The saved model/model.keras\n",
            "\u001b[1m309/309\u001b[0m \u001b[32m━━━━━━━━━━━━━━━━━━━━\u001b[0m\u001b[37m\u001b[0m \u001b[1m4s\u001b[0m 12ms/step - accuracy: 0.9834 - loss: 0.0550 - val_accuracy: 0.9873 - val_loss: 0.0463\n",
            "Epoch 33/200\n",
            "\u001b[1m304/309\u001b[0m \u001b[32m━━━━━━━━━━━━━━━━━━━\u001b[0m\u001b[37m━\u001b[0m \u001b[1m0s\u001b[0m 11ms/step - accuracy: 0.9850 - loss: 0.0492\n",
            "Epoch 33: saving model to The saved model/model.keras\n",
            "\u001b[1m309/309\u001b[0m \u001b[32m━━━━━━━━━━━━━━━━━━━━\u001b[0m\u001b[37m\u001b[0m \u001b[1m4s\u001b[0m 13ms/step - accuracy: 0.9850 - loss: 0.0492 - val_accuracy: 0.9862 - val_loss: 0.0421\n",
            "Epoch 34/200\n",
            "\u001b[1m305/309\u001b[0m \u001b[32m━━━━━━━━━━━━━━━━━━━\u001b[0m\u001b[37m━\u001b[0m \u001b[1m0s\u001b[0m 11ms/step - accuracy: 0.9836 - loss: 0.0530\n",
            "Epoch 34: saving model to The saved model/model.keras\n",
            "\u001b[1m309/309\u001b[0m \u001b[32m━━━━━━━━━━━━━━━━━━━━\u001b[0m\u001b[37m\u001b[0m \u001b[1m4s\u001b[0m 12ms/step - accuracy: 0.9836 - loss: 0.0530 - val_accuracy: 0.9877 - val_loss: 0.0391\n",
            "Epoch 35/200\n",
            "\u001b[1m307/309\u001b[0m \u001b[32m━━━━━━━━━━━━━━━━━━━\u001b[0m\u001b[37m━\u001b[0m \u001b[1m0s\u001b[0m 12ms/step - accuracy: 0.9844 - loss: 0.0457\n",
            "Epoch 35: saving model to The saved model/model.keras\n",
            "\u001b[1m309/309\u001b[0m \u001b[32m━━━━━━━━━━━━━━━━━━━━\u001b[0m\u001b[37m\u001b[0m \u001b[1m4s\u001b[0m 14ms/step - accuracy: 0.9844 - loss: 0.0457 - val_accuracy: 0.9895 - val_loss: 0.0314\n",
            "Epoch 36/200\n",
            "\u001b[1m309/309\u001b[0m \u001b[32m━━━━━━━━━━━━━━━━━━━━\u001b[0m\u001b[37m\u001b[0m \u001b[1m0s\u001b[0m 11ms/step - accuracy: 0.9862 - loss: 0.0437\n",
            "Epoch 36: saving model to The saved model/model.keras\n",
            "\u001b[1m309/309\u001b[0m \u001b[32m━━━━━━━━━━━━━━━━━━━━\u001b[0m\u001b[37m\u001b[0m \u001b[1m4s\u001b[0m 12ms/step - accuracy: 0.9862 - loss: 0.0437 - val_accuracy: 0.9885 - val_loss: 0.0361\n",
            "Epoch 37/200\n",
            "\u001b[1m309/309\u001b[0m \u001b[32m━━━━━━━━━━━━━━━━━━━━\u001b[0m\u001b[37m\u001b[0m \u001b[1m0s\u001b[0m 11ms/step - accuracy: 0.9863 - loss: 0.0457\n",
            "Epoch 37: saving model to The saved model/model.keras\n",
            "\u001b[1m309/309\u001b[0m \u001b[32m━━━━━━━━━━━━━━━━━━━━\u001b[0m\u001b[37m\u001b[0m \u001b[1m4s\u001b[0m 12ms/step - accuracy: 0.9863 - loss: 0.0457 - val_accuracy: 0.9854 - val_loss: 0.0431\n",
            "Epoch 38/200\n",
            "\u001b[1m306/309\u001b[0m \u001b[32m━━━━━━━━━━━━━━━━━━━\u001b[0m\u001b[37m━\u001b[0m \u001b[1m0s\u001b[0m 11ms/step - accuracy: 0.9874 - loss: 0.0425\n",
            "Epoch 38: saving model to The saved model/model.keras\n",
            "\u001b[1m309/309\u001b[0m \u001b[32m━━━━━━━━━━━━━━━━━━━━\u001b[0m\u001b[37m\u001b[0m \u001b[1m4s\u001b[0m 12ms/step - accuracy: 0.9874 - loss: 0.0425 - val_accuracy: 0.9909 - val_loss: 0.0317\n",
            "Epoch 39/200\n",
            "\u001b[1m308/309\u001b[0m \u001b[32m━━━━━━━━━━━━━━━━━━━\u001b[0m\u001b[37m━\u001b[0m \u001b[1m0s\u001b[0m 11ms/step - accuracy: 0.9868 - loss: 0.0470\n",
            "Epoch 39: saving model to The saved model/model.keras\n",
            "\u001b[1m309/309\u001b[0m \u001b[32m━━━━━━━━━━━━━━━━━━━━\u001b[0m\u001b[37m\u001b[0m \u001b[1m4s\u001b[0m 12ms/step - accuracy: 0.9868 - loss: 0.0470 - val_accuracy: 0.9909 - val_loss: 0.0295\n",
            "Epoch 40/200\n",
            "\u001b[1m306/309\u001b[0m \u001b[32m━━━━━━━━━━━━━━━━━━━\u001b[0m\u001b[37m━\u001b[0m \u001b[1m0s\u001b[0m 11ms/step - accuracy: 0.9864 - loss: 0.0407\n",
            "Epoch 40: saving model to The saved model/model.keras\n",
            "\u001b[1m309/309\u001b[0m \u001b[32m━━━━━━━━━━━━━━━━━━━━\u001b[0m\u001b[37m\u001b[0m \u001b[1m4s\u001b[0m 12ms/step - accuracy: 0.9864 - loss: 0.0407 - val_accuracy: 0.9905 - val_loss: 0.0307\n",
            "Epoch 41/200\n",
            "\u001b[1m306/309\u001b[0m \u001b[32m━━━━━━━━━━━━━━━━━━━\u001b[0m\u001b[37m━\u001b[0m \u001b[1m0s\u001b[0m 11ms/step - accuracy: 0.9893 - loss: 0.0336\n",
            "Epoch 41: saving model to The saved model/model.keras\n",
            "\u001b[1m309/309\u001b[0m \u001b[32m━━━━━━━━━━━━━━━━━━━━\u001b[0m\u001b[37m\u001b[0m \u001b[1m4s\u001b[0m 12ms/step - accuracy: 0.9893 - loss: 0.0337 - val_accuracy: 0.9915 - val_loss: 0.0268\n",
            "Epoch 42/200\n",
            "\u001b[1m306/309\u001b[0m \u001b[32m━━━━━━━━━━━━━━━━━━━\u001b[0m\u001b[37m━\u001b[0m \u001b[1m0s\u001b[0m 11ms/step - accuracy: 0.9854 - loss: 0.0413\n",
            "Epoch 42: saving model to The saved model/model.keras\n",
            "\u001b[1m309/309\u001b[0m \u001b[32m━━━━━━━━━━━━━━━━━━━━\u001b[0m\u001b[37m\u001b[0m \u001b[1m4s\u001b[0m 12ms/step - accuracy: 0.9854 - loss: 0.0413 - val_accuracy: 0.9858 - val_loss: 0.0392\n",
            "Epoch 43/200\n",
            "\u001b[1m304/309\u001b[0m \u001b[32m━━━━━━━━━━━━━━━━━━━\u001b[0m\u001b[37m━\u001b[0m \u001b[1m0s\u001b[0m 11ms/step - accuracy: 0.9885 - loss: 0.0370\n",
            "Epoch 43: saving model to The saved model/model.keras\n",
            "\u001b[1m309/309\u001b[0m \u001b[32m━━━━━━━━━━━━━━━━━━━━\u001b[0m\u001b[37m\u001b[0m \u001b[1m4s\u001b[0m 12ms/step - accuracy: 0.9885 - loss: 0.0370 - val_accuracy: 0.9923 - val_loss: 0.0229\n",
            "Epoch 44/200\n",
            "\u001b[1m308/309\u001b[0m \u001b[32m━━━━━━━━━━━━━━━━━━━\u001b[0m\u001b[37m━\u001b[0m \u001b[1m0s\u001b[0m 10ms/step - accuracy: 0.9883 - loss: 0.0357\n",
            "Epoch 44: saving model to The saved model/model.keras\n",
            "\u001b[1m309/309\u001b[0m \u001b[32m━━━━━━━━━━━━━━━━━━━━\u001b[0m\u001b[37m\u001b[0m \u001b[1m4s\u001b[0m 12ms/step - accuracy: 0.9883 - loss: 0.0357 - val_accuracy: 0.9921 - val_loss: 0.0247\n",
            "Epoch 45/200\n",
            "\u001b[1m307/309\u001b[0m \u001b[32m━━━━━━━━━━━━━━━━━━━\u001b[0m\u001b[37m━\u001b[0m \u001b[1m0s\u001b[0m 11ms/step - accuracy: 0.9883 - loss: 0.0371\n",
            "Epoch 45: saving model to The saved model/model.keras\n",
            "\u001b[1m309/309\u001b[0m \u001b[32m━━━━━━━━━━━━━━━━━━━━\u001b[0m\u001b[37m\u001b[0m \u001b[1m4s\u001b[0m 12ms/step - accuracy: 0.9883 - loss: 0.0371 - val_accuracy: 0.9909 - val_loss: 0.0247\n",
            "Epoch 46/200\n",
            "\u001b[1m304/309\u001b[0m \u001b[32m━━━━━━━━━━━━━━━━━━━\u001b[0m\u001b[37m━\u001b[0m \u001b[1m0s\u001b[0m 10ms/step - accuracy: 0.9902 - loss: 0.0320\n",
            "Epoch 46: saving model to The saved model/model.keras\n",
            "\u001b[1m309/309\u001b[0m \u001b[32m━━━━━━━━━━━━━━━━━━━━\u001b[0m\u001b[37m\u001b[0m \u001b[1m4s\u001b[0m 12ms/step - accuracy: 0.9901 - loss: 0.0322 - val_accuracy: 0.9951 - val_loss: 0.0199\n",
            "Epoch 47/200\n",
            "\u001b[1m307/309\u001b[0m \u001b[32m━━━━━━━━━━━━━━━━━━━\u001b[0m\u001b[37m━\u001b[0m \u001b[1m0s\u001b[0m 11ms/step - accuracy: 0.9891 - loss: 0.0362\n",
            "Epoch 47: saving model to The saved model/model.keras\n",
            "\u001b[1m309/309\u001b[0m \u001b[32m━━━━━━━━━━━━━━━━━━━━\u001b[0m\u001b[37m\u001b[0m \u001b[1m4s\u001b[0m 12ms/step - accuracy: 0.9891 - loss: 0.0363 - val_accuracy: 0.9887 - val_loss: 0.0334\n",
            "Epoch 48/200\n",
            "\u001b[1m307/309\u001b[0m \u001b[32m━━━━━━━━━━━━━━━━━━━\u001b[0m\u001b[37m━\u001b[0m \u001b[1m0s\u001b[0m 11ms/step - accuracy: 0.9896 - loss: 0.0312\n",
            "Epoch 48: saving model to The saved model/model.keras\n",
            "\u001b[1m309/309\u001b[0m \u001b[32m━━━━━━━━━━━━━━━━━━━━\u001b[0m\u001b[37m\u001b[0m \u001b[1m4s\u001b[0m 12ms/step - accuracy: 0.9896 - loss: 0.0312 - val_accuracy: 0.9921 - val_loss: 0.0219\n",
            "Epoch 49/200\n",
            "\u001b[1m308/309\u001b[0m \u001b[32m━━━━━━━━━━━━━━━━━━━\u001b[0m\u001b[37m━\u001b[0m \u001b[1m0s\u001b[0m 11ms/step - accuracy: 0.9897 - loss: 0.0295\n",
            "Epoch 49: saving model to The saved model/model.keras\n",
            "\u001b[1m309/309\u001b[0m \u001b[32m━━━━━━━━━━━━━━━━━━━━\u001b[0m\u001b[37m\u001b[0m \u001b[1m4s\u001b[0m 13ms/step - accuracy: 0.9897 - loss: 0.0295 - val_accuracy: 0.9919 - val_loss: 0.0215\n",
            "Epoch 50/200\n",
            "\u001b[1m309/309\u001b[0m \u001b[32m━━━━━━━━━━━━━━━━━━━━\u001b[0m\u001b[37m\u001b[0m \u001b[1m0s\u001b[0m 11ms/step - accuracy: 0.9893 - loss: 0.0318\n",
            "Epoch 50: saving model to The saved model/model.keras\n",
            "\u001b[1m309/309\u001b[0m \u001b[32m━━━━━━━━━━━━━━━━━━━━\u001b[0m\u001b[37m\u001b[0m \u001b[1m4s\u001b[0m 12ms/step - accuracy: 0.9893 - loss: 0.0318 - val_accuracy: 0.9903 - val_loss: 0.0314\n",
            "Epoch 51/200\n",
            "\u001b[1m304/309\u001b[0m \u001b[32m━━━━━━━━━━━━━━━━━━━\u001b[0m\u001b[37m━\u001b[0m \u001b[1m0s\u001b[0m 11ms/step - accuracy: 0.9915 - loss: 0.0264\n",
            "Epoch 51: saving model to The saved model/model.keras\n",
            "\u001b[1m309/309\u001b[0m \u001b[32m━━━━━━━━━━━━━━━━━━━━\u001b[0m\u001b[37m\u001b[0m \u001b[1m4s\u001b[0m 12ms/step - accuracy: 0.9915 - loss: 0.0264 - val_accuracy: 0.9937 - val_loss: 0.0174\n",
            "Epoch 52/200\n",
            "\u001b[1m309/309\u001b[0m \u001b[32m━━━━━━━━━━━━━━━━━━━━\u001b[0m\u001b[37m\u001b[0m \u001b[1m0s\u001b[0m 11ms/step - accuracy: 0.9922 - loss: 0.0244\n",
            "Epoch 52: saving model to The saved model/model.keras\n",
            "\u001b[1m309/309\u001b[0m \u001b[32m━━━━━━━━━━━━━━━━━━━━\u001b[0m\u001b[37m\u001b[0m \u001b[1m4s\u001b[0m 13ms/step - accuracy: 0.9922 - loss: 0.0244 - val_accuracy: 0.9931 - val_loss: 0.0198\n",
            "Epoch 53/200\n",
            "\u001b[1m306/309\u001b[0m \u001b[32m━━━━━━━━━━━━━━━━━━━\u001b[0m\u001b[37m━\u001b[0m \u001b[1m0s\u001b[0m 11ms/step - accuracy: 0.9919 - loss: 0.0276\n",
            "Epoch 53: saving model to The saved model/model.keras\n",
            "\u001b[1m309/309\u001b[0m \u001b[32m━━━━━━━━━━━━━━━━━━━━\u001b[0m\u001b[37m\u001b[0m \u001b[1m4s\u001b[0m 12ms/step - accuracy: 0.9919 - loss: 0.0275 - val_accuracy: 0.9962 - val_loss: 0.0153\n",
            "Epoch 54/200\n",
            "\u001b[1m308/309\u001b[0m \u001b[32m━━━━━━━━━━━━━━━━━━━\u001b[0m\u001b[37m━\u001b[0m \u001b[1m0s\u001b[0m 11ms/step - accuracy: 0.9923 - loss: 0.0250\n",
            "Epoch 54: saving model to The saved model/model.keras\n",
            "\u001b[1m309/309\u001b[0m \u001b[32m━━━━━━━━━━━━━━━━━━━━\u001b[0m\u001b[37m\u001b[0m \u001b[1m4s\u001b[0m 12ms/step - accuracy: 0.9923 - loss: 0.0250 - val_accuracy: 0.9945 - val_loss: 0.0144\n",
            "Epoch 55/200\n",
            "\u001b[1m307/309\u001b[0m \u001b[32m━━━━━━━━━━━━━━━━━━━\u001b[0m\u001b[37m━\u001b[0m \u001b[1m0s\u001b[0m 11ms/step - accuracy: 0.9910 - loss: 0.0277\n",
            "Epoch 55: saving model to The saved model/model.keras\n",
            "\u001b[1m309/309\u001b[0m \u001b[32m━━━━━━━━━━━━━━━━━━━━\u001b[0m\u001b[37m\u001b[0m \u001b[1m4s\u001b[0m 12ms/step - accuracy: 0.9910 - loss: 0.0277 - val_accuracy: 0.9939 - val_loss: 0.0192\n",
            "Epoch 56/200\n",
            "\u001b[1m304/309\u001b[0m \u001b[32m━━━━━━━━━━━━━━━━━━━\u001b[0m\u001b[37m━\u001b[0m \u001b[1m0s\u001b[0m 11ms/step - accuracy: 0.9887 - loss: 0.0345\n",
            "Epoch 56: saving model to The saved model/model.keras\n",
            "\u001b[1m309/309\u001b[0m \u001b[32m━━━━━━━━━━━━━━━━━━━━\u001b[0m\u001b[37m\u001b[0m \u001b[1m4s\u001b[0m 12ms/step - accuracy: 0.9888 - loss: 0.0344 - val_accuracy: 0.9937 - val_loss: 0.0163\n",
            "Epoch 57/200\n",
            "\u001b[1m307/309\u001b[0m \u001b[32m━━━━━━━━━━━━━━━━━━━\u001b[0m\u001b[37m━\u001b[0m \u001b[1m0s\u001b[0m 11ms/step - accuracy: 0.9918 - loss: 0.0234\n",
            "Epoch 57: saving model to The saved model/model.keras\n",
            "\u001b[1m309/309\u001b[0m \u001b[32m━━━━━━━━━━━━━━━━━━━━\u001b[0m\u001b[37m\u001b[0m \u001b[1m4s\u001b[0m 12ms/step - accuracy: 0.9918 - loss: 0.0234 - val_accuracy: 0.9951 - val_loss: 0.0138\n",
            "Epoch 58/200\n",
            "\u001b[1m309/309\u001b[0m \u001b[32m━━━━━━━━━━━━━━━━━━━━\u001b[0m\u001b[37m\u001b[0m \u001b[1m0s\u001b[0m 11ms/step - accuracy: 0.9924 - loss: 0.0262\n",
            "Epoch 58: saving model to The saved model/model.keras\n",
            "\u001b[1m309/309\u001b[0m \u001b[32m━━━━━━━━━━━━━━━━━━━━\u001b[0m\u001b[37m\u001b[0m \u001b[1m4s\u001b[0m 12ms/step - accuracy: 0.9924 - loss: 0.0262 - val_accuracy: 0.9958 - val_loss: 0.0140\n",
            "Epoch 59/200\n",
            "\u001b[1m308/309\u001b[0m \u001b[32m━━━━━━━━━━━━━━━━━━━\u001b[0m\u001b[37m━\u001b[0m \u001b[1m0s\u001b[0m 11ms/step - accuracy: 0.9931 - loss: 0.0237\n",
            "Epoch 59: saving model to The saved model/model.keras\n",
            "\u001b[1m309/309\u001b[0m \u001b[32m━━━━━━━━━━━━━━━━━━━━\u001b[0m\u001b[37m\u001b[0m \u001b[1m4s\u001b[0m 12ms/step - accuracy: 0.9931 - loss: 0.0237 - val_accuracy: 0.9943 - val_loss: 0.0163\n",
            "Epoch 60/200\n",
            "\u001b[1m306/309\u001b[0m \u001b[32m━━━━━━━━━━━━━━━━━━━\u001b[0m\u001b[37m━\u001b[0m \u001b[1m0s\u001b[0m 11ms/step - accuracy: 0.9938 - loss: 0.0193\n",
            "Epoch 60: saving model to The saved model/model.keras\n",
            "\u001b[1m309/309\u001b[0m \u001b[32m━━━━━━━━━━━━━━━━━━━━\u001b[0m\u001b[37m\u001b[0m \u001b[1m4s\u001b[0m 12ms/step - accuracy: 0.9938 - loss: 0.0193 - val_accuracy: 0.9943 - val_loss: 0.0129\n",
            "Epoch 61/200\n",
            "\u001b[1m309/309\u001b[0m \u001b[32m━━━━━━━━━━━━━━━━━━━━\u001b[0m\u001b[37m\u001b[0m \u001b[1m0s\u001b[0m 11ms/step - accuracy: 0.9922 - loss: 0.0267\n",
            "Epoch 61: saving model to The saved model/model.keras\n",
            "\u001b[1m309/309\u001b[0m \u001b[32m━━━━━━━━━━━━━━━━━━━━\u001b[0m\u001b[37m\u001b[0m \u001b[1m4s\u001b[0m 12ms/step - accuracy: 0.9922 - loss: 0.0267 - val_accuracy: 0.9927 - val_loss: 0.0204\n",
            "Epoch 62/200\n",
            "\u001b[1m305/309\u001b[0m \u001b[32m━━━━━━━━━━━━━━━━━━━\u001b[0m\u001b[37m━\u001b[0m \u001b[1m0s\u001b[0m 11ms/step - accuracy: 0.9924 - loss: 0.0237\n",
            "Epoch 62: saving model to The saved model/model.keras\n",
            "\u001b[1m309/309\u001b[0m \u001b[32m━━━━━━━━━━━━━━━━━━━━\u001b[0m\u001b[37m\u001b[0m \u001b[1m4s\u001b[0m 12ms/step - accuracy: 0.9924 - loss: 0.0237 - val_accuracy: 0.9951 - val_loss: 0.0154\n",
            "Epoch 63/200\n",
            "\u001b[1m307/309\u001b[0m \u001b[32m━━━━━━━━━━━━━━━━━━━\u001b[0m\u001b[37m━\u001b[0m \u001b[1m0s\u001b[0m 11ms/step - accuracy: 0.9898 - loss: 0.0303\n",
            "Epoch 63: saving model to The saved model/model.keras\n",
            "\u001b[1m309/309\u001b[0m \u001b[32m━━━━━━━━━━━━━━━━━━━━\u001b[0m\u001b[37m\u001b[0m \u001b[1m4s\u001b[0m 13ms/step - accuracy: 0.9898 - loss: 0.0302 - val_accuracy: 0.9949 - val_loss: 0.0136\n",
            "Epoch 64/200\n",
            "\u001b[1m307/309\u001b[0m \u001b[32m━━━━━━━━━━━━━━━━━━━\u001b[0m\u001b[37m━\u001b[0m \u001b[1m0s\u001b[0m 12ms/step - accuracy: 0.9941 - loss: 0.0193\n",
            "Epoch 64: saving model to The saved model/model.keras\n",
            "\u001b[1m309/309\u001b[0m \u001b[32m━━━━━━━━━━━━━━━━━━━━\u001b[0m\u001b[37m\u001b[0m \u001b[1m4s\u001b[0m 13ms/step - accuracy: 0.9941 - loss: 0.0194 - val_accuracy: 0.9964 - val_loss: 0.0128\n",
            "Epoch 65/200\n",
            "\u001b[1m306/309\u001b[0m \u001b[32m━━━━━━━━━━━━━━━━━━━\u001b[0m\u001b[37m━\u001b[0m \u001b[1m0s\u001b[0m 11ms/step - accuracy: 0.9944 - loss: 0.0186\n",
            "Epoch 65: saving model to The saved model/model.keras\n",
            "\u001b[1m309/309\u001b[0m \u001b[32m━━━━━━━━━━━━━━━━━━━━\u001b[0m\u001b[37m\u001b[0m \u001b[1m4s\u001b[0m 12ms/step - accuracy: 0.9944 - loss: 0.0186 - val_accuracy: 0.9976 - val_loss: 0.0089\n",
            "Epoch 66/200\n",
            "\u001b[1m309/309\u001b[0m \u001b[32m━━━━━━━━━━━━━━━━━━━━\u001b[0m\u001b[37m\u001b[0m \u001b[1m0s\u001b[0m 11ms/step - accuracy: 0.9942 - loss: 0.0208\n",
            "Epoch 66: saving model to The saved model/model.keras\n",
            "\u001b[1m309/309\u001b[0m \u001b[32m━━━━━━━━━━━━━━━━━━━━\u001b[0m\u001b[37m\u001b[0m \u001b[1m4s\u001b[0m 12ms/step - accuracy: 0.9942 - loss: 0.0208 - val_accuracy: 0.9956 - val_loss: 0.0123\n",
            "Epoch 67/200\n",
            "\u001b[1m308/309\u001b[0m \u001b[32m━━━━━━━━━━━━━━━━━━━\u001b[0m\u001b[37m━\u001b[0m \u001b[1m0s\u001b[0m 11ms/step - accuracy: 0.9947 - loss: 0.0211\n",
            "Epoch 67: saving model to The saved model/model.keras\n",
            "\u001b[1m309/309\u001b[0m \u001b[32m━━━━━━━━━━━━━━━━━━━━\u001b[0m\u001b[37m\u001b[0m \u001b[1m4s\u001b[0m 12ms/step - accuracy: 0.9947 - loss: 0.0211 - val_accuracy: 0.9960 - val_loss: 0.0102\n",
            "Epoch 68/200\n",
            "\u001b[1m304/309\u001b[0m \u001b[32m━━━━━━━━━━━━━━━━━━━\u001b[0m\u001b[37m━\u001b[0m \u001b[1m0s\u001b[0m 11ms/step - accuracy: 0.9935 - loss: 0.0195\n",
            "Epoch 68: saving model to The saved model/model.keras\n",
            "\u001b[1m309/309\u001b[0m \u001b[32m━━━━━━━━━━━━━━━━━━━━\u001b[0m\u001b[37m\u001b[0m \u001b[1m4s\u001b[0m 12ms/step - accuracy: 0.9935 - loss: 0.0195 - val_accuracy: 0.9962 - val_loss: 0.0098\n",
            "Epoch 69/200\n",
            "\u001b[1m309/309\u001b[0m \u001b[32m━━━━━━━━━━━━━━━━━━━━\u001b[0m\u001b[37m\u001b[0m \u001b[1m0s\u001b[0m 11ms/step - accuracy: 0.9935 - loss: 0.0187\n",
            "Epoch 69: saving model to The saved model/model.keras\n",
            "\u001b[1m309/309\u001b[0m \u001b[32m━━━━━━━━━━━━━━━━━━━━\u001b[0m\u001b[37m\u001b[0m \u001b[1m4s\u001b[0m 12ms/step - accuracy: 0.9935 - loss: 0.0187 - val_accuracy: 0.9966 - val_loss: 0.0115\n",
            "Epoch 70/200\n",
            "\u001b[1m308/309\u001b[0m \u001b[32m━━━━━━━━━━━━━━━━━━━\u001b[0m\u001b[37m━\u001b[0m \u001b[1m0s\u001b[0m 11ms/step - accuracy: 0.9933 - loss: 0.0199\n",
            "Epoch 70: saving model to The saved model/model.keras\n",
            "\u001b[1m309/309\u001b[0m \u001b[32m━━━━━━━━━━━━━━━━━━━━\u001b[0m\u001b[37m\u001b[0m \u001b[1m4s\u001b[0m 13ms/step - accuracy: 0.9934 - loss: 0.0199 - val_accuracy: 0.9941 - val_loss: 0.0157\n",
            "Epoch 71/200\n",
            "\u001b[1m304/309\u001b[0m \u001b[32m━━━━━━━━━━━━━━━━━━━\u001b[0m\u001b[37m━\u001b[0m \u001b[1m0s\u001b[0m 11ms/step - accuracy: 0.9954 - loss: 0.0156\n",
            "Epoch 71: saving model to The saved model/model.keras\n",
            "\u001b[1m309/309\u001b[0m \u001b[32m━━━━━━━━━━━━━━━━━━━━\u001b[0m\u001b[37m\u001b[0m \u001b[1m4s\u001b[0m 12ms/step - accuracy: 0.9953 - loss: 0.0157 - val_accuracy: 0.9949 - val_loss: 0.0173\n",
            "Epoch 72/200\n",
            "\u001b[1m306/309\u001b[0m \u001b[32m━━━━━━━━━━━━━━━━━━━\u001b[0m\u001b[37m━\u001b[0m \u001b[1m0s\u001b[0m 11ms/step - accuracy: 0.9924 - loss: 0.0229\n",
            "Epoch 72: saving model to The saved model/model.keras\n",
            "\u001b[1m309/309\u001b[0m \u001b[32m━━━━━━━━━━━━━━━━━━━━\u001b[0m\u001b[37m\u001b[0m \u001b[1m4s\u001b[0m 12ms/step - accuracy: 0.9924 - loss: 0.0229 - val_accuracy: 0.9976 - val_loss: 0.0078\n",
            "Epoch 73/200\n",
            "\u001b[1m308/309\u001b[0m \u001b[32m━━━━━━━━━━━━━━━━━━━\u001b[0m\u001b[37m━\u001b[0m \u001b[1m0s\u001b[0m 11ms/step - accuracy: 0.9948 - loss: 0.0159\n",
            "Epoch 73: saving model to The saved model/model.keras\n",
            "\u001b[1m309/309\u001b[0m \u001b[32m━━━━━━━━━━━━━━━━━━━━\u001b[0m\u001b[37m\u001b[0m \u001b[1m4s\u001b[0m 12ms/step - accuracy: 0.9947 - loss: 0.0159 - val_accuracy: 0.9951 - val_loss: 0.0140\n",
            "Epoch 74/200\n",
            "\u001b[1m306/309\u001b[0m \u001b[32m━━━━━━━━━━━━━━━━━━━\u001b[0m\u001b[37m━\u001b[0m \u001b[1m0s\u001b[0m 11ms/step - accuracy: 0.9938 - loss: 0.0173\n",
            "Epoch 74: saving model to The saved model/model.keras\n",
            "\u001b[1m309/309\u001b[0m \u001b[32m━━━━━━━━━━━━━━━━━━━━\u001b[0m\u001b[37m\u001b[0m \u001b[1m4s\u001b[0m 12ms/step - accuracy: 0.9938 - loss: 0.0173 - val_accuracy: 0.9933 - val_loss: 0.0180\n",
            "Epoch 75/200\n",
            "\u001b[1m306/309\u001b[0m \u001b[32m━━━━━━━━━━━━━━━━━━━\u001b[0m\u001b[37m━\u001b[0m \u001b[1m0s\u001b[0m 11ms/step - accuracy: 0.9924 - loss: 0.0211\n",
            "Epoch 75: saving model to The saved model/model.keras\n",
            "\u001b[1m309/309\u001b[0m \u001b[32m━━━━━━━━━━━━━━━━━━━━\u001b[0m\u001b[37m\u001b[0m \u001b[1m4s\u001b[0m 12ms/step - accuracy: 0.9924 - loss: 0.0211 - val_accuracy: 0.9958 - val_loss: 0.0115\n",
            "Epoch 76/200\n",
            "\u001b[1m307/309\u001b[0m \u001b[32m━━━━━━━━━━━━━━━━━━━\u001b[0m\u001b[37m━\u001b[0m \u001b[1m0s\u001b[0m 11ms/step - accuracy: 0.9954 - loss: 0.0145\n",
            "Epoch 76: saving model to The saved model/model.keras\n",
            "\u001b[1m309/309\u001b[0m \u001b[32m━━━━━━━━━━━━━━━━━━━━\u001b[0m\u001b[37m\u001b[0m \u001b[1m4s\u001b[0m 12ms/step - accuracy: 0.9954 - loss: 0.0146 - val_accuracy: 0.9974 - val_loss: 0.0089\n",
            "Epoch 77/200\n",
            "\u001b[1m308/309\u001b[0m \u001b[32m━━━━━━━━━━━━━━━━━━━\u001b[0m\u001b[37m━\u001b[0m \u001b[1m0s\u001b[0m 11ms/step - accuracy: 0.9949 - loss: 0.0146\n",
            "Epoch 77: saving model to The saved model/model.keras\n",
            "\u001b[1m309/309\u001b[0m \u001b[32m━━━━━━━━━━━━━━━━━━━━\u001b[0m\u001b[37m\u001b[0m \u001b[1m4s\u001b[0m 12ms/step - accuracy: 0.9949 - loss: 0.0146 - val_accuracy: 0.9978 - val_loss: 0.0076\n",
            "Epoch 78/200\n",
            "\u001b[1m308/309\u001b[0m \u001b[32m━━━━━━━━━━━━━━━━━━━\u001b[0m\u001b[37m━\u001b[0m \u001b[1m0s\u001b[0m 11ms/step - accuracy: 0.9940 - loss: 0.0188\n",
            "Epoch 78: saving model to The saved model/model.keras\n",
            "\u001b[1m309/309\u001b[0m \u001b[32m━━━━━━━━━━━━━━━━━━━━\u001b[0m\u001b[37m\u001b[0m \u001b[1m4s\u001b[0m 12ms/step - accuracy: 0.9940 - loss: 0.0188 - val_accuracy: 0.9978 - val_loss: 0.0065\n",
            "Epoch 79/200\n",
            "\u001b[1m306/309\u001b[0m \u001b[32m━━━━━━━━━━━━━━━━━━━\u001b[0m\u001b[37m━\u001b[0m \u001b[1m0s\u001b[0m 11ms/step - accuracy: 0.9947 - loss: 0.0151\n",
            "Epoch 79: saving model to The saved model/model.keras\n",
            "\u001b[1m309/309\u001b[0m \u001b[32m━━━━━━━━━━━━━━━━━━━━\u001b[0m\u001b[37m\u001b[0m \u001b[1m4s\u001b[0m 12ms/step - accuracy: 0.9947 - loss: 0.0151 - val_accuracy: 0.9968 - val_loss: 0.0072\n",
            "Epoch 80/200\n",
            "\u001b[1m306/309\u001b[0m \u001b[32m━━━━━━━━━━━━━━━━━━━\u001b[0m\u001b[37m━\u001b[0m \u001b[1m0s\u001b[0m 11ms/step - accuracy: 0.9959 - loss: 0.0124\n",
            "Epoch 80: saving model to The saved model/model.keras\n",
            "\u001b[1m309/309\u001b[0m \u001b[32m━━━━━━━━━━━━━━━━━━━━\u001b[0m\u001b[37m\u001b[0m \u001b[1m4s\u001b[0m 13ms/step - accuracy: 0.9959 - loss: 0.0125 - val_accuracy: 0.9970 - val_loss: 0.0111\n",
            "Epoch 81/200\n",
            "\u001b[1m304/309\u001b[0m \u001b[32m━━━━━━━━━━━━━━━━━━━\u001b[0m\u001b[37m━\u001b[0m \u001b[1m0s\u001b[0m 11ms/step - accuracy: 0.9945 - loss: 0.0165\n",
            "Epoch 81: saving model to The saved model/model.keras\n",
            "\u001b[1m309/309\u001b[0m \u001b[32m━━━━━━━━━━━━━━━━━━━━\u001b[0m\u001b[37m\u001b[0m \u001b[1m4s\u001b[0m 12ms/step - accuracy: 0.9945 - loss: 0.0165 - val_accuracy: 0.9964 - val_loss: 0.0101\n",
            "Epoch 82/200\n",
            "\u001b[1m309/309\u001b[0m \u001b[32m━━━━━━━━━━━━━━━━━━━━\u001b[0m\u001b[37m\u001b[0m \u001b[1m0s\u001b[0m 11ms/step - accuracy: 0.9953 - loss: 0.0136\n",
            "Epoch 82: saving model to The saved model/model.keras\n",
            "\u001b[1m309/309\u001b[0m \u001b[32m━━━━━━━━━━━━━━━━━━━━\u001b[0m\u001b[37m\u001b[0m \u001b[1m4s\u001b[0m 13ms/step - accuracy: 0.9953 - loss: 0.0136 - val_accuracy: 0.9925 - val_loss: 0.0154\n",
            "Epoch 83/200\n",
            "\u001b[1m304/309\u001b[0m \u001b[32m━━━━━━━━━━━━━━━━━━━\u001b[0m\u001b[37m━\u001b[0m \u001b[1m0s\u001b[0m 11ms/step - accuracy: 0.9943 - loss: 0.0172\n",
            "Epoch 83: saving model to The saved model/model.keras\n",
            "\u001b[1m309/309\u001b[0m \u001b[32m━━━━━━━━━━━━━━━━━━━━\u001b[0m\u001b[37m\u001b[0m \u001b[1m4s\u001b[0m 12ms/step - accuracy: 0.9943 - loss: 0.0172 - val_accuracy: 0.9953 - val_loss: 0.0093\n",
            "Epoch 84/200\n",
            "\u001b[1m306/309\u001b[0m \u001b[32m━━━━━━━━━━━━━━━━━━━\u001b[0m\u001b[37m━\u001b[0m \u001b[1m0s\u001b[0m 11ms/step - accuracy: 0.9937 - loss: 0.0201\n",
            "Epoch 84: saving model to The saved model/model.keras\n",
            "\u001b[1m309/309\u001b[0m \u001b[32m━━━━━━━━━━━━━━━━━━━━\u001b[0m\u001b[37m\u001b[0m \u001b[1m4s\u001b[0m 12ms/step - accuracy: 0.9937 - loss: 0.0201 - val_accuracy: 0.9980 - val_loss: 0.0076\n",
            "Epoch 85/200\n",
            "\u001b[1m308/309\u001b[0m \u001b[32m━━━━━━━━━━━━━━━━━━━\u001b[0m\u001b[37m━\u001b[0m \u001b[1m0s\u001b[0m 11ms/step - accuracy: 0.9962 - loss: 0.0119\n",
            "Epoch 85: saving model to The saved model/model.keras\n",
            "\u001b[1m309/309\u001b[0m \u001b[32m━━━━━━━━━━━━━━━━━━━━\u001b[0m\u001b[37m\u001b[0m \u001b[1m4s\u001b[0m 13ms/step - accuracy: 0.9962 - loss: 0.0119 - val_accuracy: 0.9978 - val_loss: 0.0046\n",
            "Epoch 86/200\n",
            "\u001b[1m308/309\u001b[0m \u001b[32m━━━━━━━━━━━━━━━━━━━\u001b[0m\u001b[37m━\u001b[0m \u001b[1m0s\u001b[0m 11ms/step - accuracy: 0.9975 - loss: 0.0085\n",
            "Epoch 86: saving model to The saved model/model.keras\n",
            "\u001b[1m309/309\u001b[0m \u001b[32m━━━━━━━━━━━━━━━━━━━━\u001b[0m\u001b[37m\u001b[0m \u001b[1m4s\u001b[0m 13ms/step - accuracy: 0.9975 - loss: 0.0085 - val_accuracy: 0.9968 - val_loss: 0.0065\n",
            "Epoch 87/200\n",
            "\u001b[1m308/309\u001b[0m \u001b[32m━━━━━━━━━━━━━━━━━━━\u001b[0m\u001b[37m━\u001b[0m \u001b[1m0s\u001b[0m 11ms/step - accuracy: 0.9956 - loss: 0.0144\n",
            "Epoch 87: saving model to The saved model/model.keras\n",
            "\u001b[1m309/309\u001b[0m \u001b[32m━━━━━━━━━━━━━━━━━━━━\u001b[0m\u001b[37m\u001b[0m \u001b[1m4s\u001b[0m 12ms/step - accuracy: 0.9956 - loss: 0.0144 - val_accuracy: 0.9974 - val_loss: 0.0079\n",
            "Epoch 88/200\n",
            "\u001b[1m307/309\u001b[0m \u001b[32m━━━━━━━━━━━━━━━━━━━\u001b[0m\u001b[37m━\u001b[0m \u001b[1m0s\u001b[0m 11ms/step - accuracy: 0.9954 - loss: 0.0155\n",
            "Epoch 88: saving model to The saved model/model.keras\n",
            "\u001b[1m309/309\u001b[0m \u001b[32m━━━━━━━━━━━━━━━━━━━━\u001b[0m\u001b[37m\u001b[0m \u001b[1m4s\u001b[0m 12ms/step - accuracy: 0.9954 - loss: 0.0155 - val_accuracy: 0.9962 - val_loss: 0.0087\n",
            "Epoch 89/200\n",
            "\u001b[1m306/309\u001b[0m \u001b[32m━━━━━━━━━━━━━━━━━━━\u001b[0m\u001b[37m━\u001b[0m \u001b[1m0s\u001b[0m 11ms/step - accuracy: 0.9936 - loss: 0.0198\n",
            "Epoch 89: saving model to The saved model/model.keras\n",
            "\u001b[1m309/309\u001b[0m \u001b[32m━━━━━━━━━━━━━━━━━━━━\u001b[0m\u001b[37m\u001b[0m \u001b[1m4s\u001b[0m 13ms/step - accuracy: 0.9936 - loss: 0.0197 - val_accuracy: 0.9988 - val_loss: 0.0052\n",
            "Epoch 90/200\n",
            "\u001b[1m306/309\u001b[0m \u001b[32m━━━━━━━━━━━━━━━━━━━\u001b[0m\u001b[37m━\u001b[0m \u001b[1m0s\u001b[0m 12ms/step - accuracy: 0.9938 - loss: 0.0166\n",
            "Epoch 90: saving model to The saved model/model.keras\n",
            "\u001b[1m309/309\u001b[0m \u001b[32m━━━━━━━━━━━━━━━━━━━━\u001b[0m\u001b[37m\u001b[0m \u001b[1m4s\u001b[0m 14ms/step - accuracy: 0.9938 - loss: 0.0166 - val_accuracy: 0.9972 - val_loss: 0.0067\n",
            "Epoch 91/200\n",
            "\u001b[1m308/309\u001b[0m \u001b[32m━━━━━━━━━━━━━━━━━━━\u001b[0m\u001b[37m━\u001b[0m \u001b[1m0s\u001b[0m 12ms/step - accuracy: 0.9953 - loss: 0.0164\n",
            "Epoch 91: saving model to The saved model/model.keras\n",
            "\u001b[1m309/309\u001b[0m \u001b[32m━━━━━━━━━━━━━━━━━━━━\u001b[0m\u001b[37m\u001b[0m \u001b[1m4s\u001b[0m 14ms/step - accuracy: 0.9953 - loss: 0.0164 - val_accuracy: 0.9966 - val_loss: 0.0095\n",
            "Epoch 92/200\n",
            "\u001b[1m306/309\u001b[0m \u001b[32m━━━━━━━━━━━━━━━━━━━\u001b[0m\u001b[37m━\u001b[0m \u001b[1m0s\u001b[0m 12ms/step - accuracy: 0.9961 - loss: 0.0151\n",
            "Epoch 92: saving model to The saved model/model.keras\n",
            "\u001b[1m309/309\u001b[0m \u001b[32m━━━━━━━━━━━━━━━━━━━━\u001b[0m\u001b[37m\u001b[0m \u001b[1m4s\u001b[0m 13ms/step - accuracy: 0.9961 - loss: 0.0151 - val_accuracy: 0.9978 - val_loss: 0.0056\n",
            "Epoch 93/200\n",
            "\u001b[1m307/309\u001b[0m \u001b[32m━━━━━━━━━━━━━━━━━━━\u001b[0m\u001b[37m━\u001b[0m \u001b[1m0s\u001b[0m 11ms/step - accuracy: 0.9956 - loss: 0.0136\n",
            "Epoch 93: saving model to The saved model/model.keras\n",
            "\u001b[1m309/309\u001b[0m \u001b[32m━━━━━━━━━━━━━━━━━━━━\u001b[0m\u001b[37m\u001b[0m \u001b[1m4s\u001b[0m 13ms/step - accuracy: 0.9956 - loss: 0.0135 - val_accuracy: 0.9980 - val_loss: 0.0059\n",
            "Epoch 94/200\n",
            "\u001b[1m308/309\u001b[0m \u001b[32m━━━━━━━━━━━━━━━━━━━\u001b[0m\u001b[37m━\u001b[0m \u001b[1m0s\u001b[0m 11ms/step - accuracy: 0.9971 - loss: 0.0090\n",
            "Epoch 94: saving model to The saved model/model.keras\n",
            "\u001b[1m309/309\u001b[0m \u001b[32m━━━━━━━━━━━━━━━━━━━━\u001b[0m\u001b[37m\u001b[0m \u001b[1m4s\u001b[0m 13ms/step - accuracy: 0.9971 - loss: 0.0090 - val_accuracy: 0.9980 - val_loss: 0.0059\n",
            "Epoch 95/200\n",
            "\u001b[1m307/309\u001b[0m \u001b[32m━━━━━━━━━━━━━━━━━━━\u001b[0m\u001b[37m━\u001b[0m \u001b[1m0s\u001b[0m 12ms/step - accuracy: 0.9960 - loss: 0.0115\n",
            "Epoch 95: saving model to The saved model/model.keras\n",
            "\u001b[1m309/309\u001b[0m \u001b[32m━━━━━━━━━━━━━━━━━━━━\u001b[0m\u001b[37m\u001b[0m \u001b[1m4s\u001b[0m 13ms/step - accuracy: 0.9960 - loss: 0.0115 - val_accuracy: 0.9974 - val_loss: 0.0073\n",
            "Epoch 96/200\n",
            "\u001b[1m305/309\u001b[0m \u001b[32m━━━━━━━━━━━━━━━━━━━\u001b[0m\u001b[37m━\u001b[0m \u001b[1m0s\u001b[0m 11ms/step - accuracy: 0.9961 - loss: 0.0125\n",
            "Epoch 96: saving model to The saved model/model.keras\n",
            "\u001b[1m309/309\u001b[0m \u001b[32m━━━━━━━━━━━━━━━━━━━━\u001b[0m\u001b[37m\u001b[0m \u001b[1m4s\u001b[0m 12ms/step - accuracy: 0.9961 - loss: 0.0124 - val_accuracy: 0.9982 - val_loss: 0.0048\n",
            "Epoch 97/200\n",
            "\u001b[1m307/309\u001b[0m \u001b[32m━━━━━━━━━━━━━━━━━━━\u001b[0m\u001b[37m━\u001b[0m \u001b[1m0s\u001b[0m 12ms/step - accuracy: 0.9955 - loss: 0.0161\n",
            "Epoch 97: saving model to The saved model/model.keras\n",
            "\u001b[1m309/309\u001b[0m \u001b[32m━━━━━━━━━━━━━━━━━━━━\u001b[0m\u001b[37m\u001b[0m \u001b[1m4s\u001b[0m 14ms/step - accuracy: 0.9955 - loss: 0.0161 - val_accuracy: 0.9972 - val_loss: 0.0091\n",
            "Epoch 98/200\n",
            "\u001b[1m305/309\u001b[0m \u001b[32m━━━━━━━━━━━━━━━━━━━\u001b[0m\u001b[37m━\u001b[0m \u001b[1m0s\u001b[0m 11ms/step - accuracy: 0.9952 - loss: 0.0147\n",
            "Epoch 98: saving model to The saved model/model.keras\n",
            "\u001b[1m309/309\u001b[0m \u001b[32m━━━━━━━━━━━━━━━━━━━━\u001b[0m\u001b[37m\u001b[0m \u001b[1m5s\u001b[0m 12ms/step - accuracy: 0.9952 - loss: 0.0147 - val_accuracy: 0.9968 - val_loss: 0.0091\n",
            "Epoch 99/200\n",
            "\u001b[1m307/309\u001b[0m \u001b[32m━━━━━━━━━━━━━━━━━━━\u001b[0m\u001b[37m━\u001b[0m \u001b[1m0s\u001b[0m 11ms/step - accuracy: 0.9950 - loss: 0.0166\n",
            "Epoch 99: saving model to The saved model/model.keras\n",
            "\u001b[1m309/309\u001b[0m \u001b[32m━━━━━━━━━━━━━━━━━━━━\u001b[0m\u001b[37m\u001b[0m \u001b[1m4s\u001b[0m 12ms/step - accuracy: 0.9950 - loss: 0.0166 - val_accuracy: 0.9980 - val_loss: 0.0058\n",
            "Epoch 100/200\n",
            "\u001b[1m305/309\u001b[0m \u001b[32m━━━━━━━━━━━━━━━━━━━\u001b[0m\u001b[37m━\u001b[0m \u001b[1m0s\u001b[0m 11ms/step - accuracy: 0.9948 - loss: 0.0177\n",
            "Epoch 100: saving model to The saved model/model.keras\n",
            "\u001b[1m309/309\u001b[0m \u001b[32m━━━━━━━━━━━━━━━━━━━━\u001b[0m\u001b[37m\u001b[0m \u001b[1m4s\u001b[0m 13ms/step - accuracy: 0.9949 - loss: 0.0176 - val_accuracy: 0.9988 - val_loss: 0.0040\n",
            "Epoch 101/200\n",
            "\u001b[1m305/309\u001b[0m \u001b[32m━━━━━━━━━━━━━━━━━━━\u001b[0m\u001b[37m━\u001b[0m \u001b[1m0s\u001b[0m 11ms/step - accuracy: 0.9980 - loss: 0.0067\n",
            "Epoch 101: saving model to The saved model/model.keras\n",
            "\u001b[1m309/309\u001b[0m \u001b[32m━━━━━━━━━━━━━━━━━━━━\u001b[0m\u001b[37m\u001b[0m \u001b[1m4s\u001b[0m 13ms/step - accuracy: 0.9980 - loss: 0.0068 - val_accuracy: 0.9986 - val_loss: 0.0039\n",
            "Epoch 102/200\n",
            "\u001b[1m305/309\u001b[0m \u001b[32m━━━━━━━━━━━━━━━━━━━\u001b[0m\u001b[37m━\u001b[0m \u001b[1m0s\u001b[0m 11ms/step - accuracy: 0.9951 - loss: 0.0161\n",
            "Epoch 102: saving model to The saved model/model.keras\n",
            "\u001b[1m309/309\u001b[0m \u001b[32m━━━━━━━━━━━━━━━━━━━━\u001b[0m\u001b[37m\u001b[0m \u001b[1m4s\u001b[0m 13ms/step - accuracy: 0.9951 - loss: 0.0161 - val_accuracy: 0.9968 - val_loss: 0.0067\n",
            "Epoch 103/200\n",
            "\u001b[1m308/309\u001b[0m \u001b[32m━━━━━━━━━━━━━━━━━━━\u001b[0m\u001b[37m━\u001b[0m \u001b[1m0s\u001b[0m 12ms/step - accuracy: 0.9979 - loss: 0.0077\n",
            "Epoch 103: saving model to The saved model/model.keras\n",
            "\u001b[1m309/309\u001b[0m \u001b[32m━━━━━━━━━━━━━━━━━━━━\u001b[0m\u001b[37m\u001b[0m \u001b[1m4s\u001b[0m 13ms/step - accuracy: 0.9979 - loss: 0.0076 - val_accuracy: 0.9984 - val_loss: 0.0036\n",
            "Epoch 104/200\n",
            "\u001b[1m304/309\u001b[0m \u001b[32m━━━━━━━━━━━━━━━━━━━\u001b[0m\u001b[37m━\u001b[0m \u001b[1m0s\u001b[0m 12ms/step - accuracy: 0.9966 - loss: 0.0101\n",
            "Epoch 104: saving model to The saved model/model.keras\n",
            "\u001b[1m309/309\u001b[0m \u001b[32m━━━━━━━━━━━━━━━━━━━━\u001b[0m\u001b[37m\u001b[0m \u001b[1m4s\u001b[0m 13ms/step - accuracy: 0.9966 - loss: 0.0101 - val_accuracy: 0.9970 - val_loss: 0.0065\n",
            "Epoch 105/200\n",
            "\u001b[1m308/309\u001b[0m \u001b[32m━━━━━━━━━━━━━━━━━━━\u001b[0m\u001b[37m━\u001b[0m \u001b[1m0s\u001b[0m 11ms/step - accuracy: 0.9956 - loss: 0.0133\n",
            "Epoch 105: saving model to The saved model/model.keras\n",
            "\u001b[1m309/309\u001b[0m \u001b[32m━━━━━━━━━━━━━━━━━━━━\u001b[0m\u001b[37m\u001b[0m \u001b[1m4s\u001b[0m 13ms/step - accuracy: 0.9956 - loss: 0.0133 - val_accuracy: 0.9988 - val_loss: 0.0031\n",
            "Epoch 106/200\n",
            "\u001b[1m305/309\u001b[0m \u001b[32m━━━━━━━━━━━━━━━━━━━\u001b[0m\u001b[37m━\u001b[0m \u001b[1m0s\u001b[0m 11ms/step - accuracy: 0.9978 - loss: 0.0085\n",
            "Epoch 106: saving model to The saved model/model.keras\n",
            "\u001b[1m309/309\u001b[0m \u001b[32m━━━━━━━━━━━━━━━━━━━━\u001b[0m\u001b[37m\u001b[0m \u001b[1m4s\u001b[0m 12ms/step - accuracy: 0.9978 - loss: 0.0085 - val_accuracy: 0.9982 - val_loss: 0.0037\n",
            "Epoch 107/200\n",
            "\u001b[1m308/309\u001b[0m \u001b[32m━━━━━━━━━━━━━━━━━━━\u001b[0m\u001b[37m━\u001b[0m \u001b[1m0s\u001b[0m 12ms/step - accuracy: 0.9980 - loss: 0.0081\n",
            "Epoch 107: saving model to The saved model/model.keras\n",
            "\u001b[1m309/309\u001b[0m \u001b[32m━━━━━━━━━━━━━━━━━━━━\u001b[0m\u001b[37m\u001b[0m \u001b[1m4s\u001b[0m 13ms/step - accuracy: 0.9980 - loss: 0.0081 - val_accuracy: 0.9968 - val_loss: 0.0084\n",
            "Epoch 108/200\n",
            "\u001b[1m305/309\u001b[0m \u001b[32m━━━━━━━━━━━━━━━━━━━\u001b[0m\u001b[37m━\u001b[0m \u001b[1m0s\u001b[0m 11ms/step - accuracy: 0.9934 - loss: 0.0211\n",
            "Epoch 108: saving model to The saved model/model.keras\n",
            "\u001b[1m309/309\u001b[0m \u001b[32m━━━━━━━━━━━━━━━━━━━━\u001b[0m\u001b[37m\u001b[0m \u001b[1m4s\u001b[0m 13ms/step - accuracy: 0.9934 - loss: 0.0211 - val_accuracy: 0.9990 - val_loss: 0.0030\n",
            "Epoch 109/200\n",
            "\u001b[1m308/309\u001b[0m \u001b[32m━━━━━━━━━━━━━━━━━━━\u001b[0m\u001b[37m━\u001b[0m \u001b[1m0s\u001b[0m 11ms/step - accuracy: 0.9970 - loss: 0.0097\n",
            "Epoch 109: saving model to The saved model/model.keras\n",
            "\u001b[1m309/309\u001b[0m \u001b[32m━━━━━━━━━━━━━━━━━━━━\u001b[0m\u001b[37m\u001b[0m \u001b[1m4s\u001b[0m 13ms/step - accuracy: 0.9970 - loss: 0.0097 - val_accuracy: 0.9992 - val_loss: 0.0024\n",
            "Epoch 110/200\n",
            "\u001b[1m309/309\u001b[0m \u001b[32m━━━━━━━━━━━━━━━━━━━━\u001b[0m\u001b[37m\u001b[0m \u001b[1m0s\u001b[0m 12ms/step - accuracy: 0.9957 - loss: 0.0120\n",
            "Epoch 110: saving model to The saved model/model.keras\n",
            "\u001b[1m309/309\u001b[0m \u001b[32m━━━━━━━━━━━━━━━━━━━━\u001b[0m\u001b[37m\u001b[0m \u001b[1m4s\u001b[0m 14ms/step - accuracy: 0.9957 - loss: 0.0120 - val_accuracy: 0.9978 - val_loss: 0.0063\n",
            "Epoch 111/200\n",
            "\u001b[1m305/309\u001b[0m \u001b[32m━━━━━━━━━━━━━━━━━━━\u001b[0m\u001b[37m━\u001b[0m \u001b[1m0s\u001b[0m 12ms/step - accuracy: 0.9967 - loss: 0.0086\n",
            "Epoch 111: saving model to The saved model/model.keras\n",
            "\u001b[1m309/309\u001b[0m \u001b[32m━━━━━━━━━━━━━━━━━━━━\u001b[0m\u001b[37m\u001b[0m \u001b[1m4s\u001b[0m 14ms/step - accuracy: 0.9967 - loss: 0.0086 - val_accuracy: 0.9994 - val_loss: 0.0028\n",
            "Epoch 112/200\n",
            "\u001b[1m307/309\u001b[0m \u001b[32m━━━━━━━━━━━━━━━━━━━\u001b[0m\u001b[37m━\u001b[0m \u001b[1m0s\u001b[0m 12ms/step - accuracy: 0.9968 - loss: 0.0095\n",
            "Epoch 112: saving model to The saved model/model.keras\n",
            "\u001b[1m309/309\u001b[0m \u001b[32m━━━━━━━━━━━━━━━━━━━━\u001b[0m\u001b[37m\u001b[0m \u001b[1m4s\u001b[0m 13ms/step - accuracy: 0.9968 - loss: 0.0095 - val_accuracy: 0.9990 - val_loss: 0.0023\n",
            "Epoch 113/200\n",
            "\u001b[1m306/309\u001b[0m \u001b[32m━━━━━━━━━━━━━━━━━━━\u001b[0m\u001b[37m━\u001b[0m \u001b[1m0s\u001b[0m 11ms/step - accuracy: 0.9982 - loss: 0.0054\n",
            "Epoch 113: saving model to The saved model/model.keras\n",
            "\u001b[1m309/309\u001b[0m \u001b[32m━━━━━━━━━━━━━━━━━━━━\u001b[0m\u001b[37m\u001b[0m \u001b[1m5s\u001b[0m 13ms/step - accuracy: 0.9982 - loss: 0.0054 - val_accuracy: 0.9980 - val_loss: 0.0041\n",
            "Epoch 114/200\n",
            "\u001b[1m308/309\u001b[0m \u001b[32m━━━━━━━━━━━━━━━━━━━\u001b[0m\u001b[37m━\u001b[0m \u001b[1m0s\u001b[0m 11ms/step - accuracy: 0.9958 - loss: 0.0130\n",
            "Epoch 114: saving model to The saved model/model.keras\n",
            "\u001b[1m309/309\u001b[0m \u001b[32m━━━━━━━━━━━━━━━━━━━━\u001b[0m\u001b[37m\u001b[0m \u001b[1m4s\u001b[0m 12ms/step - accuracy: 0.9958 - loss: 0.0130 - val_accuracy: 0.9986 - val_loss: 0.0030\n",
            "Epoch 115/200\n",
            "\u001b[1m307/309\u001b[0m \u001b[32m━━━━━━━━━━━━━━━━━━━\u001b[0m\u001b[37m━\u001b[0m \u001b[1m0s\u001b[0m 11ms/step - accuracy: 0.9961 - loss: 0.0114\n",
            "Epoch 115: saving model to The saved model/model.keras\n",
            "\u001b[1m309/309\u001b[0m \u001b[32m━━━━━━━━━━━━━━━━━━━━\u001b[0m\u001b[37m\u001b[0m \u001b[1m4s\u001b[0m 13ms/step - accuracy: 0.9961 - loss: 0.0114 - val_accuracy: 0.9994 - val_loss: 0.0034\n",
            "Epoch 116/200\n",
            "\u001b[1m308/309\u001b[0m \u001b[32m━━━━━━━━━━━━━━━━━━━\u001b[0m\u001b[37m━\u001b[0m \u001b[1m0s\u001b[0m 12ms/step - accuracy: 0.9980 - loss: 0.0055\n",
            "Epoch 116: saving model to The saved model/model.keras\n",
            "\u001b[1m309/309\u001b[0m \u001b[32m━━━━━━━━━━━━━━━━━━━━\u001b[0m\u001b[37m\u001b[0m \u001b[1m4s\u001b[0m 13ms/step - accuracy: 0.9980 - loss: 0.0056 - val_accuracy: 0.9978 - val_loss: 0.0074\n",
            "Epoch 117/200\n",
            "\u001b[1m307/309\u001b[0m \u001b[32m━━━━━━━━━━━━━━━━━━━\u001b[0m\u001b[37m━\u001b[0m \u001b[1m0s\u001b[0m 10ms/step - accuracy: 0.9930 - loss: 0.0168\n",
            "Epoch 117: saving model to The saved model/model.keras\n",
            "\u001b[1m309/309\u001b[0m \u001b[32m━━━━━━━━━━━━━━━━━━━━\u001b[0m\u001b[37m\u001b[0m \u001b[1m4s\u001b[0m 12ms/step - accuracy: 0.9930 - loss: 0.0168 - val_accuracy: 0.9986 - val_loss: 0.0034\n",
            "Epoch 118/200\n",
            "\u001b[1m308/309\u001b[0m \u001b[32m━━━━━━━━━━━━━━━━━━━\u001b[0m\u001b[37m━\u001b[0m \u001b[1m0s\u001b[0m 12ms/step - accuracy: 0.9970 - loss: 0.0101\n",
            "Epoch 118: saving model to The saved model/model.keras\n",
            "\u001b[1m309/309\u001b[0m \u001b[32m━━━━━━━━━━━━━━━━━━━━\u001b[0m\u001b[37m\u001b[0m \u001b[1m4s\u001b[0m 13ms/step - accuracy: 0.9970 - loss: 0.0101 - val_accuracy: 0.9982 - val_loss: 0.0041\n",
            "Epoch 119/200\n",
            "\u001b[1m307/309\u001b[0m \u001b[32m━━━━━━━━━━━━━━━━━━━\u001b[0m\u001b[37m━\u001b[0m \u001b[1m0s\u001b[0m 12ms/step - accuracy: 0.9964 - loss: 0.0110\n",
            "Epoch 119: saving model to The saved model/model.keras\n",
            "\u001b[1m309/309\u001b[0m \u001b[32m━━━━━━━━━━━━━━━━━━━━\u001b[0m\u001b[37m\u001b[0m \u001b[1m4s\u001b[0m 13ms/step - accuracy: 0.9964 - loss: 0.0110 - val_accuracy: 0.9992 - val_loss: 0.0032\n",
            "Epoch 120/200\n",
            "\u001b[1m309/309\u001b[0m \u001b[32m━━━━━━━━━━━━━━━━━━━━\u001b[0m\u001b[37m\u001b[0m \u001b[1m0s\u001b[0m 10ms/step - accuracy: 0.9964 - loss: 0.0093\n",
            "Epoch 120: saving model to The saved model/model.keras\n",
            "\u001b[1m309/309\u001b[0m \u001b[32m━━━━━━━━━━━━━━━━━━━━\u001b[0m\u001b[37m\u001b[0m \u001b[1m5s\u001b[0m 12ms/step - accuracy: 0.9964 - loss: 0.0093 - val_accuracy: 0.9986 - val_loss: 0.0036\n",
            "Epoch 121/200\n",
            "\u001b[1m308/309\u001b[0m \u001b[32m━━━━━━━━━━━━━━━━━━━\u001b[0m\u001b[37m━\u001b[0m \u001b[1m0s\u001b[0m 11ms/step - accuracy: 0.9959 - loss: 0.0124\n",
            "Epoch 121: saving model to The saved model/model.keras\n",
            "\u001b[1m309/309\u001b[0m \u001b[32m━━━━━━━━━━━━━━━━━━━━\u001b[0m\u001b[37m\u001b[0m \u001b[1m4s\u001b[0m 13ms/step - accuracy: 0.9959 - loss: 0.0124 - val_accuracy: 0.9994 - val_loss: 0.0016\n",
            "Epoch 122/200\n",
            "\u001b[1m308/309\u001b[0m \u001b[32m━━━━━━━━━━━━━━━━━━━\u001b[0m\u001b[37m━\u001b[0m \u001b[1m0s\u001b[0m 11ms/step - accuracy: 0.9983 - loss: 0.0054\n",
            "Epoch 122: saving model to The saved model/model.keras\n",
            "\u001b[1m309/309\u001b[0m \u001b[32m━━━━━━━━━━━━━━━━━━━━\u001b[0m\u001b[37m\u001b[0m \u001b[1m4s\u001b[0m 12ms/step - accuracy: 0.9983 - loss: 0.0054 - val_accuracy: 0.9992 - val_loss: 0.0026\n",
            "Epoch 123/200\n",
            "\u001b[1m305/309\u001b[0m \u001b[32m━━━━━━━━━━━━━━━━━━━\u001b[0m\u001b[37m━\u001b[0m \u001b[1m0s\u001b[0m 11ms/step - accuracy: 0.9960 - loss: 0.0111\n",
            "Epoch 123: saving model to The saved model/model.keras\n",
            "\u001b[1m309/309\u001b[0m \u001b[32m━━━━━━━━━━━━━━━━━━━━\u001b[0m\u001b[37m\u001b[0m \u001b[1m4s\u001b[0m 13ms/step - accuracy: 0.9960 - loss: 0.0111 - val_accuracy: 0.9992 - val_loss: 0.0037\n",
            "Epoch 124/200\n",
            "\u001b[1m308/309\u001b[0m \u001b[32m━━━━━━━━━━━━━━━━━━━\u001b[0m\u001b[37m━\u001b[0m \u001b[1m0s\u001b[0m 12ms/step - accuracy: 0.9979 - loss: 0.0069\n",
            "Epoch 124: saving model to The saved model/model.keras\n",
            "\u001b[1m309/309\u001b[0m \u001b[32m━━━━━━━━━━━━━━━━━━━━\u001b[0m\u001b[37m\u001b[0m \u001b[1m4s\u001b[0m 13ms/step - accuracy: 0.9979 - loss: 0.0069 - val_accuracy: 0.9974 - val_loss: 0.0140\n",
            "Epoch 125/200\n",
            "\u001b[1m309/309\u001b[0m \u001b[32m━━━━━━━━━━━━━━━━━━━━\u001b[0m\u001b[37m\u001b[0m \u001b[1m0s\u001b[0m 11ms/step - accuracy: 0.9950 - loss: 0.0160\n",
            "Epoch 125: saving model to The saved model/model.keras\n",
            "\u001b[1m309/309\u001b[0m \u001b[32m━━━━━━━━━━━━━━━━━━━━\u001b[0m\u001b[37m\u001b[0m \u001b[1m4s\u001b[0m 12ms/step - accuracy: 0.9950 - loss: 0.0160 - val_accuracy: 0.9990 - val_loss: 0.0041\n",
            "Epoch 126/200\n",
            "\u001b[1m308/309\u001b[0m \u001b[32m━━━━━━━━━━━━━━━━━━━\u001b[0m\u001b[37m━\u001b[0m \u001b[1m0s\u001b[0m 11ms/step - accuracy: 0.9986 - loss: 0.0056\n",
            "Epoch 126: saving model to The saved model/model.keras\n",
            "\u001b[1m309/309\u001b[0m \u001b[32m━━━━━━━━━━━━━━━━━━━━\u001b[0m\u001b[37m\u001b[0m \u001b[1m4s\u001b[0m 12ms/step - accuracy: 0.9986 - loss: 0.0056 - val_accuracy: 0.9996 - val_loss: 0.0013\n",
            "Epoch 127/200\n",
            "\u001b[1m307/309\u001b[0m \u001b[32m━━━━━━━━━━━━━━━━━━━\u001b[0m\u001b[37m━\u001b[0m \u001b[1m0s\u001b[0m 11ms/step - accuracy: 0.9983 - loss: 0.0045\n",
            "Epoch 127: saving model to The saved model/model.keras\n",
            "\u001b[1m309/309\u001b[0m \u001b[32m━━━━━━━━━━━━━━━━━━━━\u001b[0m\u001b[37m\u001b[0m \u001b[1m4s\u001b[0m 13ms/step - accuracy: 0.9983 - loss: 0.0045 - val_accuracy: 0.9982 - val_loss: 0.0054\n",
            "Epoch 128/200\n",
            "\u001b[1m305/309\u001b[0m \u001b[32m━━━━━━━━━━━━━━━━━━━\u001b[0m\u001b[37m━\u001b[0m \u001b[1m0s\u001b[0m 12ms/step - accuracy: 0.9937 - loss: 0.0203\n",
            "Epoch 128: saving model to The saved model/model.keras\n",
            "\u001b[1m309/309\u001b[0m \u001b[32m━━━━━━━━━━━━━━━━━━━━\u001b[0m\u001b[37m\u001b[0m \u001b[1m4s\u001b[0m 13ms/step - accuracy: 0.9937 - loss: 0.0202 - val_accuracy: 0.9994 - val_loss: 0.0021\n",
            "Epoch 129/200\n",
            "\u001b[1m304/309\u001b[0m \u001b[32m━━━━━━━━━━━━━━━━━━━\u001b[0m\u001b[37m━\u001b[0m \u001b[1m0s\u001b[0m 11ms/step - accuracy: 0.9978 - loss: 0.0064\n",
            "Epoch 129: saving model to The saved model/model.keras\n",
            "\u001b[1m309/309\u001b[0m \u001b[32m━━━━━━━━━━━━━━━━━━━━\u001b[0m\u001b[37m\u001b[0m \u001b[1m4s\u001b[0m 12ms/step - accuracy: 0.9978 - loss: 0.0065 - val_accuracy: 0.9976 - val_loss: 0.0042\n",
            "Epoch 130/200\n",
            "\u001b[1m307/309\u001b[0m \u001b[32m━━━━━━━━━━━━━━━━━━━\u001b[0m\u001b[37m━\u001b[0m \u001b[1m0s\u001b[0m 12ms/step - accuracy: 0.9986 - loss: 0.0069\n",
            "Epoch 130: saving model to The saved model/model.keras\n",
            "\u001b[1m309/309\u001b[0m \u001b[32m━━━━━━━━━━━━━━━━━━━━\u001b[0m\u001b[37m\u001b[0m \u001b[1m4s\u001b[0m 13ms/step - accuracy: 0.9985 - loss: 0.0069 - val_accuracy: 0.9992 - val_loss: 0.0021\n",
            "Epoch 131/200\n",
            "\u001b[1m308/309\u001b[0m \u001b[32m━━━━━━━━━━━━━━━━━━━\u001b[0m\u001b[37m━\u001b[0m \u001b[1m0s\u001b[0m 11ms/step - accuracy: 0.9967 - loss: 0.0093\n",
            "Epoch 131: saving model to The saved model/model.keras\n",
            "\u001b[1m309/309\u001b[0m \u001b[32m━━━━━━━━━━━━━━━━━━━━\u001b[0m\u001b[37m\u001b[0m \u001b[1m4s\u001b[0m 12ms/step - accuracy: 0.9967 - loss: 0.0093 - val_accuracy: 0.9992 - val_loss: 0.0018\n",
            "Epoch 132/200\n",
            "\u001b[1m308/309\u001b[0m \u001b[32m━━━━━━━━━━━━━━━━━━━\u001b[0m\u001b[37m━\u001b[0m \u001b[1m0s\u001b[0m 11ms/step - accuracy: 0.9987 - loss: 0.0038\n",
            "Epoch 132: saving model to The saved model/model.keras\n",
            "\u001b[1m309/309\u001b[0m \u001b[32m━━━━━━━━━━━━━━━━━━━━\u001b[0m\u001b[37m\u001b[0m \u001b[1m4s\u001b[0m 12ms/step - accuracy: 0.9987 - loss: 0.0038 - val_accuracy: 0.9986 - val_loss: 0.0030\n",
            "Epoch 133/200\n",
            "\u001b[1m305/309\u001b[0m \u001b[32m━━━━━━━━━━━━━━━━━━━\u001b[0m\u001b[37m━\u001b[0m \u001b[1m0s\u001b[0m 11ms/step - accuracy: 0.9971 - loss: 0.0089\n",
            "Epoch 133: saving model to The saved model/model.keras\n",
            "\u001b[1m309/309\u001b[0m \u001b[32m━━━━━━━━━━━━━━━━━━━━\u001b[0m\u001b[37m\u001b[0m \u001b[1m4s\u001b[0m 13ms/step - accuracy: 0.9971 - loss: 0.0089 - val_accuracy: 0.9992 - val_loss: 0.0028\n",
            "Epoch 134/200\n",
            "\u001b[1m309/309\u001b[0m \u001b[32m━━━━━━━━━━━━━━━━━━━━\u001b[0m\u001b[37m\u001b[0m \u001b[1m0s\u001b[0m 12ms/step - accuracy: 0.9984 - loss: 0.0051\n",
            "Epoch 134: saving model to The saved model/model.keras\n",
            "\u001b[1m309/309\u001b[0m \u001b[32m━━━━━━━━━━━━━━━━━━━━\u001b[0m\u001b[37m\u001b[0m \u001b[1m4s\u001b[0m 13ms/step - accuracy: 0.9984 - loss: 0.0051 - val_accuracy: 0.9990 - val_loss: 0.0026\n",
            "Epoch 135/200\n",
            "\u001b[1m306/309\u001b[0m \u001b[32m━━━━━━━━━━━━━━━━━━━\u001b[0m\u001b[37m━\u001b[0m \u001b[1m0s\u001b[0m 11ms/step - accuracy: 0.9990 - loss: 0.0035\n",
            "Epoch 135: saving model to The saved model/model.keras\n",
            "\u001b[1m309/309\u001b[0m \u001b[32m━━━━━━━━━━━━━━━━━━━━\u001b[0m\u001b[37m\u001b[0m \u001b[1m4s\u001b[0m 12ms/step - accuracy: 0.9989 - loss: 0.0036 - val_accuracy: 0.9982 - val_loss: 0.0036\n",
            "Epoch 136/200\n",
            "\u001b[1m309/309\u001b[0m \u001b[32m━━━━━━━━━━━━━━━━━━━━\u001b[0m\u001b[37m\u001b[0m \u001b[1m0s\u001b[0m 12ms/step - accuracy: 0.9942 - loss: 0.0187\n",
            "Epoch 136: saving model to The saved model/model.keras\n",
            "\u001b[1m309/309\u001b[0m \u001b[32m━━━━━━━━━━━━━━━━━━━━\u001b[0m\u001b[37m\u001b[0m \u001b[1m4s\u001b[0m 13ms/step - accuracy: 0.9942 - loss: 0.0187 - val_accuracy: 0.9992 - val_loss: 0.0026\n",
            "Epoch 137/200\n",
            "\u001b[1m309/309\u001b[0m \u001b[32m━━━━━━━━━━━━━━━━━━━━\u001b[0m\u001b[37m\u001b[0m \u001b[1m0s\u001b[0m 11ms/step - accuracy: 0.9971 - loss: 0.0097\n",
            "Epoch 137: saving model to The saved model/model.keras\n",
            "\u001b[1m309/309\u001b[0m \u001b[32m━━━━━━━━━━━━━━━━━━━━\u001b[0m\u001b[37m\u001b[0m \u001b[1m4s\u001b[0m 12ms/step - accuracy: 0.9971 - loss: 0.0097 - val_accuracy: 0.9980 - val_loss: 0.0036\n",
            "Epoch 138/200\n",
            "\u001b[1m308/309\u001b[0m \u001b[32m━━━━━━━━━━━━━━━━━━━\u001b[0m\u001b[37m━\u001b[0m \u001b[1m0s\u001b[0m 11ms/step - accuracy: 0.9970 - loss: 0.0097\n",
            "Epoch 138: saving model to The saved model/model.keras\n",
            "\u001b[1m309/309\u001b[0m \u001b[32m━━━━━━━━━━━━━━━━━━━━\u001b[0m\u001b[37m\u001b[0m \u001b[1m4s\u001b[0m 12ms/step - accuracy: 0.9970 - loss: 0.0097 - val_accuracy: 0.9988 - val_loss: 0.0035\n",
            "Epoch 139/200\n",
            "\u001b[1m304/309\u001b[0m \u001b[32m━━━━━━━━━━━━━━━━━━━\u001b[0m\u001b[37m━\u001b[0m \u001b[1m0s\u001b[0m 12ms/step - accuracy: 0.9973 - loss: 0.0080\n",
            "Epoch 139: saving model to The saved model/model.keras\n",
            "\u001b[1m309/309\u001b[0m \u001b[32m━━━━━━━━━━━━━━━━━━━━\u001b[0m\u001b[37m\u001b[0m \u001b[1m4s\u001b[0m 13ms/step - accuracy: 0.9973 - loss: 0.0080 - val_accuracy: 0.9996 - val_loss: 0.0011\n",
            "Epoch 140/200\n",
            "\u001b[1m305/309\u001b[0m \u001b[32m━━━━━━━━━━━━━━━━━━━\u001b[0m\u001b[37m━\u001b[0m \u001b[1m0s\u001b[0m 11ms/step - accuracy: 0.9982 - loss: 0.0065\n",
            "Epoch 140: saving model to The saved model/model.keras\n",
            "\u001b[1m309/309\u001b[0m \u001b[32m━━━━━━━━━━━━━━━━━━━━\u001b[0m\u001b[37m\u001b[0m \u001b[1m4s\u001b[0m 12ms/step - accuracy: 0.9982 - loss: 0.0065 - val_accuracy: 0.9996 - val_loss: 0.0011\n",
            "Epoch 141/200\n",
            "\u001b[1m308/309\u001b[0m \u001b[32m━━━━━━━━━━━━━━━━━━━\u001b[0m\u001b[37m━\u001b[0m \u001b[1m0s\u001b[0m 11ms/step - accuracy: 0.9987 - loss: 0.0043\n",
            "Epoch 141: saving model to The saved model/model.keras\n",
            "\u001b[1m309/309\u001b[0m \u001b[32m━━━━━━━━━━━━━━━━━━━━\u001b[0m\u001b[37m\u001b[0m \u001b[1m4s\u001b[0m 13ms/step - accuracy: 0.9987 - loss: 0.0043 - val_accuracy: 0.9996 - val_loss: 0.0015\n",
            "Epoch 142/200\n",
            "\u001b[1m305/309\u001b[0m \u001b[32m━━━━━━━━━━━━━━━━━━━\u001b[0m\u001b[37m━\u001b[0m \u001b[1m0s\u001b[0m 11ms/step - accuracy: 0.9955 - loss: 0.0134\n",
            "Epoch 142: saving model to The saved model/model.keras\n",
            "\u001b[1m309/309\u001b[0m \u001b[32m━━━━━━━━━━━━━━━━━━━━\u001b[0m\u001b[37m\u001b[0m \u001b[1m4s\u001b[0m 12ms/step - accuracy: 0.9955 - loss: 0.0133 - val_accuracy: 0.9990 - val_loss: 0.0024\n",
            "Epoch 143/200\n",
            "\u001b[1m309/309\u001b[0m \u001b[32m━━━━━━━━━━━━━━━━━━━━\u001b[0m\u001b[37m\u001b[0m \u001b[1m0s\u001b[0m 11ms/step - accuracy: 0.9973 - loss: 0.0106\n",
            "Epoch 143: saving model to The saved model/model.keras\n",
            "\u001b[1m309/309\u001b[0m \u001b[32m━━━━━━━━━━━━━━━━━━━━\u001b[0m\u001b[37m\u001b[0m \u001b[1m4s\u001b[0m 12ms/step - accuracy: 0.9973 - loss: 0.0106 - val_accuracy: 0.9994 - val_loss: 0.0019\n",
            "Epoch 144/200\n",
            "\u001b[1m305/309\u001b[0m \u001b[32m━━━━━━━━━━━━━━━━━━━\u001b[0m\u001b[37m━\u001b[0m \u001b[1m0s\u001b[0m 12ms/step - accuracy: 0.9964 - loss: 0.0104\n",
            "Epoch 144: saving model to The saved model/model.keras\n",
            "\u001b[1m309/309\u001b[0m \u001b[32m━━━━━━━━━━━━━━━━━━━━\u001b[0m\u001b[37m\u001b[0m \u001b[1m4s\u001b[0m 13ms/step - accuracy: 0.9964 - loss: 0.0104 - val_accuracy: 0.9990 - val_loss: 0.0031\n",
            "Epoch 145/200\n",
            "\u001b[1m306/309\u001b[0m \u001b[32m━━━━━━━━━━━━━━━━━━━\u001b[0m\u001b[37m━\u001b[0m \u001b[1m0s\u001b[0m 11ms/step - accuracy: 0.9981 - loss: 0.0055\n",
            "Epoch 145: saving model to The saved model/model.keras\n",
            "\u001b[1m309/309\u001b[0m \u001b[32m━━━━━━━━━━━━━━━━━━━━\u001b[0m\u001b[37m\u001b[0m \u001b[1m4s\u001b[0m 12ms/step - accuracy: 0.9981 - loss: 0.0054 - val_accuracy: 0.9998 - val_loss: 0.0018\n",
            "Epoch 146/200\n",
            "\u001b[1m306/309\u001b[0m \u001b[32m━━━━━━━━━━━━━━━━━━━\u001b[0m\u001b[37m━\u001b[0m \u001b[1m0s\u001b[0m 11ms/step - accuracy: 0.9970 - loss: 0.0077\n",
            "Epoch 146: saving model to The saved model/model.keras\n",
            "\u001b[1m309/309\u001b[0m \u001b[32m━━━━━━━━━━━━━━━━━━━━\u001b[0m\u001b[37m\u001b[0m \u001b[1m4s\u001b[0m 12ms/step - accuracy: 0.9970 - loss: 0.0076 - val_accuracy: 0.9976 - val_loss: 0.0057\n",
            "Epoch 147/200\n",
            "\u001b[1m305/309\u001b[0m \u001b[32m━━━━━━━━━━━━━━━━━━━\u001b[0m\u001b[37m━\u001b[0m \u001b[1m0s\u001b[0m 11ms/step - accuracy: 0.9963 - loss: 0.0103\n",
            "Epoch 147: saving model to The saved model/model.keras\n",
            "\u001b[1m309/309\u001b[0m \u001b[32m━━━━━━━━━━━━━━━━━━━━\u001b[0m\u001b[37m\u001b[0m \u001b[1m4s\u001b[0m 12ms/step - accuracy: 0.9963 - loss: 0.0103 - val_accuracy: 0.9992 - val_loss: 0.0024\n",
            "Epoch 148/200\n",
            "\u001b[1m305/309\u001b[0m \u001b[32m━━━━━━━━━━━━━━━━━━━\u001b[0m\u001b[37m━\u001b[0m \u001b[1m0s\u001b[0m 12ms/step - accuracy: 0.9978 - loss: 0.0062\n",
            "Epoch 148: saving model to The saved model/model.keras\n",
            "\u001b[1m309/309\u001b[0m \u001b[32m━━━━━━━━━━━━━━━━━━━━\u001b[0m\u001b[37m\u001b[0m \u001b[1m4s\u001b[0m 13ms/step - accuracy: 0.9978 - loss: 0.0062 - val_accuracy: 1.0000 - val_loss: 0.0011\n",
            "Epoch 149/200\n",
            "\u001b[1m308/309\u001b[0m \u001b[32m━━━━━━━━━━━━━━━━━━━\u001b[0m\u001b[37m━\u001b[0m \u001b[1m0s\u001b[0m 11ms/step - accuracy: 0.9977 - loss: 0.0077\n",
            "Epoch 149: saving model to The saved model/model.keras\n",
            "\u001b[1m309/309\u001b[0m \u001b[32m━━━━━━━━━━━━━━━━━━━━\u001b[0m\u001b[37m\u001b[0m \u001b[1m4s\u001b[0m 13ms/step - accuracy: 0.9977 - loss: 0.0077 - val_accuracy: 0.9996 - val_loss: 8.9282e-04\n",
            "Epoch 150/200\n",
            "\u001b[1m309/309\u001b[0m \u001b[32m━━━━━━━━━━━━━━━━━━━━\u001b[0m\u001b[37m\u001b[0m \u001b[1m0s\u001b[0m 11ms/step - accuracy: 0.9990 - loss: 0.0033\n",
            "Epoch 150: saving model to The saved model/model.keras\n",
            "\u001b[1m309/309\u001b[0m \u001b[32m━━━━━━━━━━━━━━━━━━━━\u001b[0m\u001b[37m\u001b[0m \u001b[1m4s\u001b[0m 12ms/step - accuracy: 0.9990 - loss: 0.0033 - val_accuracy: 0.9996 - val_loss: 0.0015\n",
            "Epoch 151/200\n",
            "\u001b[1m309/309\u001b[0m \u001b[32m━━━━━━━━━━━━━━━━━━━━\u001b[0m\u001b[37m\u001b[0m \u001b[1m0s\u001b[0m 11ms/step - accuracy: 0.9981 - loss: 0.0061\n",
            "Epoch 151: saving model to The saved model/model.keras\n",
            "\u001b[1m309/309\u001b[0m \u001b[32m━━━━━━━━━━━━━━━━━━━━\u001b[0m\u001b[37m\u001b[0m \u001b[1m4s\u001b[0m 13ms/step - accuracy: 0.9981 - loss: 0.0061 - val_accuracy: 0.9988 - val_loss: 0.0035\n",
            "Epoch 152/200\n",
            "\u001b[1m308/309\u001b[0m \u001b[32m━━━━━━━━━━━━━━━━━━━\u001b[0m\u001b[37m━\u001b[0m \u001b[1m0s\u001b[0m 11ms/step - accuracy: 0.9950 - loss: 0.0156\n",
            "Epoch 152: saving model to The saved model/model.keras\n",
            "\u001b[1m309/309\u001b[0m \u001b[32m━━━━━━━━━━━━━━━━━━━━\u001b[0m\u001b[37m\u001b[0m \u001b[1m4s\u001b[0m 12ms/step - accuracy: 0.9950 - loss: 0.0156 - val_accuracy: 0.9990 - val_loss: 0.0023\n",
            "Epoch 153/200\n",
            "\u001b[1m309/309\u001b[0m \u001b[32m━━━━━━━━━━━━━━━━━━━━\u001b[0m\u001b[37m\u001b[0m \u001b[1m0s\u001b[0m 12ms/step - accuracy: 0.9974 - loss: 0.0075\n",
            "Epoch 153: saving model to The saved model/model.keras\n",
            "\u001b[1m309/309\u001b[0m \u001b[32m━━━━━━━━━━━━━━━━━━━━\u001b[0m\u001b[37m\u001b[0m \u001b[1m4s\u001b[0m 13ms/step - accuracy: 0.9974 - loss: 0.0075 - val_accuracy: 0.9988 - val_loss: 0.0048\n",
            "Epoch 154/200\n",
            "\u001b[1m308/309\u001b[0m \u001b[32m━━━━━━━━━━━━━━━━━━━\u001b[0m\u001b[37m━\u001b[0m \u001b[1m0s\u001b[0m 12ms/step - accuracy: 0.9985 - loss: 0.0049\n",
            "Epoch 154: saving model to The saved model/model.keras\n",
            "\u001b[1m309/309\u001b[0m \u001b[32m━━━━━━━━━━━━━━━━━━━━\u001b[0m\u001b[37m\u001b[0m \u001b[1m4s\u001b[0m 13ms/step - accuracy: 0.9985 - loss: 0.0049 - val_accuracy: 0.9990 - val_loss: 0.0045\n",
            "Epoch 155/200\n",
            "\u001b[1m308/309\u001b[0m \u001b[32m━━━━━━━━━━━━━━━━━━━\u001b[0m\u001b[37m━\u001b[0m \u001b[1m0s\u001b[0m 11ms/step - accuracy: 0.9984 - loss: 0.0051\n",
            "Epoch 155: saving model to The saved model/model.keras\n",
            "\u001b[1m309/309\u001b[0m \u001b[32m━━━━━━━━━━━━━━━━━━━━\u001b[0m\u001b[37m\u001b[0m \u001b[1m4s\u001b[0m 13ms/step - accuracy: 0.9984 - loss: 0.0051 - val_accuracy: 0.9982 - val_loss: 0.0056\n",
            "Epoch 156/200\n",
            "\u001b[1m308/309\u001b[0m \u001b[32m━━━━━━━━━━━━━━━━━━━\u001b[0m\u001b[37m━\u001b[0m \u001b[1m0s\u001b[0m 11ms/step - accuracy: 0.9972 - loss: 0.0076\n",
            "Epoch 156: saving model to The saved model/model.keras\n",
            "\u001b[1m309/309\u001b[0m \u001b[32m━━━━━━━━━━━━━━━━━━━━\u001b[0m\u001b[37m\u001b[0m \u001b[1m4s\u001b[0m 13ms/step - accuracy: 0.9972 - loss: 0.0076 - val_accuracy: 0.9984 - val_loss: 0.0033\n",
            "Epoch 157/200\n",
            "\u001b[1m309/309\u001b[0m \u001b[32m━━━━━━━━━━━━━━━━━━━━\u001b[0m\u001b[37m\u001b[0m \u001b[1m0s\u001b[0m 12ms/step - accuracy: 0.9983 - loss: 0.0048\n",
            "Epoch 157: saving model to The saved model/model.keras\n",
            "\u001b[1m309/309\u001b[0m \u001b[32m━━━━━━━━━━━━━━━━━━━━\u001b[0m\u001b[37m\u001b[0m \u001b[1m4s\u001b[0m 14ms/step - accuracy: 0.9983 - loss: 0.0048 - val_accuracy: 0.9982 - val_loss: 0.0039\n",
            "Epoch 158/200\n",
            "\u001b[1m305/309\u001b[0m \u001b[32m━━━━━━━━━━━━━━━━━━━\u001b[0m\u001b[37m━\u001b[0m \u001b[1m0s\u001b[0m 11ms/step - accuracy: 0.9969 - loss: 0.0083\n",
            "Epoch 158: saving model to The saved model/model.keras\n",
            "\u001b[1m309/309\u001b[0m \u001b[32m━━━━━━━━━━━━━━━━━━━━\u001b[0m\u001b[37m\u001b[0m \u001b[1m4s\u001b[0m 12ms/step - accuracy: 0.9969 - loss: 0.0083 - val_accuracy: 0.9980 - val_loss: 0.0069\n",
            "Epoch 159/200\n",
            "\u001b[1m306/309\u001b[0m \u001b[32m━━━━━━━━━━━━━━━━━━━\u001b[0m\u001b[37m━\u001b[0m \u001b[1m0s\u001b[0m 11ms/step - accuracy: 0.9953 - loss: 0.0146\n",
            "Epoch 159: saving model to The saved model/model.keras\n",
            "\u001b[1m309/309\u001b[0m \u001b[32m━━━━━━━━━━━━━━━━━━━━\u001b[0m\u001b[37m\u001b[0m \u001b[1m4s\u001b[0m 12ms/step - accuracy: 0.9953 - loss: 0.0146 - val_accuracy: 0.9992 - val_loss: 0.0023\n",
            "Epoch 160/200\n",
            "\u001b[1m305/309\u001b[0m \u001b[32m━━━━━━━━━━━━━━━━━━━\u001b[0m\u001b[37m━\u001b[0m \u001b[1m0s\u001b[0m 11ms/step - accuracy: 0.9982 - loss: 0.0055\n",
            "Epoch 160: saving model to The saved model/model.keras\n",
            "\u001b[1m309/309\u001b[0m \u001b[32m━━━━━━━━━━━━━━━━━━━━\u001b[0m\u001b[37m\u001b[0m \u001b[1m5s\u001b[0m 13ms/step - accuracy: 0.9982 - loss: 0.0056 - val_accuracy: 0.9994 - val_loss: 0.0015\n",
            "Epoch 161/200\n",
            "\u001b[1m304/309\u001b[0m \u001b[32m━━━━━━━━━━━━━━━━━━━\u001b[0m\u001b[37m━\u001b[0m \u001b[1m0s\u001b[0m 11ms/step - accuracy: 0.9982 - loss: 0.0054\n",
            "Epoch 161: saving model to The saved model/model.keras\n",
            "\u001b[1m309/309\u001b[0m \u001b[32m━━━━━━━━━━━━━━━━━━━━\u001b[0m\u001b[37m\u001b[0m \u001b[1m4s\u001b[0m 13ms/step - accuracy: 0.9982 - loss: 0.0055 - val_accuracy: 0.9984 - val_loss: 0.0037\n",
            "Epoch 162/200\n",
            "\u001b[1m307/309\u001b[0m \u001b[32m━━━━━━━━━━━━━━━━━━━\u001b[0m\u001b[37m━\u001b[0m \u001b[1m0s\u001b[0m 12ms/step - accuracy: 0.9967 - loss: 0.0113\n",
            "Epoch 162: saving model to The saved model/model.keras\n",
            "\u001b[1m309/309\u001b[0m \u001b[32m━━━━━━━━━━━━━━━━━━━━\u001b[0m\u001b[37m\u001b[0m \u001b[1m4s\u001b[0m 13ms/step - accuracy: 0.9967 - loss: 0.0113 - val_accuracy: 0.9986 - val_loss: 0.0026\n",
            "Epoch 163/200\n",
            "\u001b[1m307/309\u001b[0m \u001b[32m━━━━━━━━━━━━━━━━━━━\u001b[0m\u001b[37m━\u001b[0m \u001b[1m0s\u001b[0m 11ms/step - accuracy: 0.9987 - loss: 0.0047\n",
            "Epoch 163: saving model to The saved model/model.keras\n",
            "\u001b[1m309/309\u001b[0m \u001b[32m━━━━━━━━━━━━━━━━━━━━\u001b[0m\u001b[37m\u001b[0m \u001b[1m4s\u001b[0m 13ms/step - accuracy: 0.9987 - loss: 0.0047 - val_accuracy: 0.9996 - val_loss: 0.0012\n",
            "Epoch 164/200\n",
            "\u001b[1m308/309\u001b[0m \u001b[32m━━━━━━━━━━━━━━━━━━━\u001b[0m\u001b[37m━\u001b[0m \u001b[1m0s\u001b[0m 12ms/step - accuracy: 0.9989 - loss: 0.0043\n",
            "Epoch 164: saving model to The saved model/model.keras\n",
            "\u001b[1m309/309\u001b[0m \u001b[32m━━━━━━━━━━━━━━━━━━━━\u001b[0m\u001b[37m\u001b[0m \u001b[1m4s\u001b[0m 13ms/step - accuracy: 0.9989 - loss: 0.0044 - val_accuracy: 0.9992 - val_loss: 0.0020\n",
            "Epoch 165/200\n",
            "\u001b[1m309/309\u001b[0m \u001b[32m━━━━━━━━━━━━━━━━━━━━\u001b[0m\u001b[37m\u001b[0m \u001b[1m0s\u001b[0m 11ms/step - accuracy: 0.9970 - loss: 0.0102\n",
            "Epoch 165: saving model to The saved model/model.keras\n",
            "\u001b[1m309/309\u001b[0m \u001b[32m━━━━━━━━━━━━━━━━━━━━\u001b[0m\u001b[37m\u001b[0m \u001b[1m4s\u001b[0m 13ms/step - accuracy: 0.9970 - loss: 0.0102 - val_accuracy: 0.9933 - val_loss: 0.0151\n",
            "Epoch 166/200\n",
            "\u001b[1m308/309\u001b[0m \u001b[32m━━━━━━━━━━━━━━━━━━━\u001b[0m\u001b[37m━\u001b[0m \u001b[1m0s\u001b[0m 11ms/step - accuracy: 0.9969 - loss: 0.0108\n",
            "Epoch 166: saving model to The saved model/model.keras\n",
            "\u001b[1m309/309\u001b[0m \u001b[32m━━━━━━━━━━━━━━━━━━━━\u001b[0m\u001b[37m\u001b[0m \u001b[1m4s\u001b[0m 12ms/step - accuracy: 0.9969 - loss: 0.0107 - val_accuracy: 0.9984 - val_loss: 0.0033\n",
            "Epoch 167/200\n",
            "\u001b[1m308/309\u001b[0m \u001b[32m━━━━━━━━━━━━━━━━━━━\u001b[0m\u001b[37m━\u001b[0m \u001b[1m0s\u001b[0m 11ms/step - accuracy: 0.9985 - loss: 0.0045\n",
            "Epoch 167: saving model to The saved model/model.keras\n",
            "\u001b[1m309/309\u001b[0m \u001b[32m━━━━━━━━━━━━━━━━━━━━\u001b[0m\u001b[37m\u001b[0m \u001b[1m4s\u001b[0m 13ms/step - accuracy: 0.9985 - loss: 0.0045 - val_accuracy: 0.9996 - val_loss: 9.8650e-04\n",
            "Epoch 168/200\n",
            "\u001b[1m309/309\u001b[0m \u001b[32m━━━━━━━━━━━━━━━━━━━━\u001b[0m\u001b[37m\u001b[0m \u001b[1m0s\u001b[0m 12ms/step - accuracy: 0.9987 - loss: 0.0032\n",
            "Epoch 168: saving model to The saved model/model.keras\n",
            "\u001b[1m309/309\u001b[0m \u001b[32m━━━━━━━━━━━━━━━━━━━━\u001b[0m\u001b[37m\u001b[0m \u001b[1m4s\u001b[0m 14ms/step - accuracy: 0.9987 - loss: 0.0032 - val_accuracy: 0.9996 - val_loss: 0.0012\n",
            "Epoch 169/200\n",
            "\u001b[1m308/309\u001b[0m \u001b[32m━━━━━━━━━━━━━━━━━━━\u001b[0m\u001b[37m━\u001b[0m \u001b[1m0s\u001b[0m 11ms/step - accuracy: 0.9989 - loss: 0.0032\n",
            "Epoch 169: saving model to The saved model/model.keras\n",
            "\u001b[1m309/309\u001b[0m \u001b[32m━━━━━━━━━━━━━━━━━━━━\u001b[0m\u001b[37m\u001b[0m \u001b[1m4s\u001b[0m 13ms/step - accuracy: 0.9989 - loss: 0.0032 - val_accuracy: 0.9990 - val_loss: 0.0019\n",
            "Epoch 169: early stopping\n"
          ]
        }
      ],
      "source": [
        "history = model.fit(\n",
        "    X_train,\n",
        "    y_train,\n",
        "    epochs=200,\n",
        "    batch_size=64,\n",
        "    validation_split=0.2,\n",
        "    callbacks=[cp_callback, es_callback],\n",
        ")"
      ]
    },
    {
      "cell_type": "markdown",
      "metadata": {},
      "source": [
        "**Evaluate data**"
      ]
    },
    {
      "cell_type": "code",
      "execution_count": 19,
      "metadata": {
        "colab": {
          "base_uri": "https://localhost:8080/"
        },
        "id": "G3XfWJpqkluW",
        "outputId": "93a056f7-b947-4abd-eb3e-9eaae4fc9991"
      },
      "outputs": [
        {
          "name": "stdout",
          "output_type": "stream",
          "text": [
            "\u001b[1m194/194\u001b[0m \u001b[32m━━━━━━━━━━━━━━━━━━━━\u001b[0m\u001b[37m\u001b[0m \u001b[1m1s\u001b[0m 5ms/step - accuracy: 0.9983 - loss: 0.0037\n"
          ]
        }
      ],
      "source": [
        "loss, accuracy = model.evaluate(X_test, y_test)"
      ]
    },
    {
      "cell_type": "markdown",
      "metadata": {},
      "source": [
        "**Visualization for Test and Train (Learning curves)**"
      ]
    },
    {
      "cell_type": "code",
      "execution_count": 42,
      "metadata": {},
      "outputs": [
        {
          "data": {
            "image/png": "[encoded data removed]",
            "text/plain": [
              "<Figure size 640x480 with 1 Axes>"
            ]
          },
          "metadata": {},
          "output_type": "display_data"
        },
        {
          "data": {
            "image/png": "[encoded data removed]",
            "text/plain": [
              "<Figure size 640x480 with 1 Axes>"
            ]
          },
          "metadata": {},
          "output_type": "display_data"
        }
      ],
      "source": [
        "plt.plot(history.history['accuracy'], label='accuracy') \n",
        "plt.plot(history.history['val_accuracy'], label = 'val_accuracy') \n",
        "plt.xlabel('Epoch') \n",
        "plt.ylabel('Accuracy') \n",
        "plt.ylim([0, 1]) \n",
        "plt.legend(loc='lower right') \n",
        "plt.show() \n",
        "\n",
        "plt.plot(history.history['loss'], label='loss') \n",
        "plt.plot(history.history['val_loss'], label = 'val_loss') \n",
        "plt.xlabel('Epoch') \n",
        "plt.ylabel('Loss') \n",
        "plt.ylim([0, 1]) \n",
        "plt.legend(loc='upper right') \n",
        "plt.show()"
      ]
    },
    {
      "cell_type": "markdown",
      "metadata": {},
      "source": [
        "**Load the model**"
      ]
    },
    {
      "cell_type": "code",
      "execution_count": 20,
      "metadata": {
        "id": "9SqBV6ehmspN"
      },
      "outputs": [],
      "source": [
        "model = tf.keras.models.load_model(model_save_path)"
      ]
    },
    {
      "cell_type": "markdown",
      "metadata": {},
      "source": [
        "**Defining confusion matrix**"
      ]
    },
    {
      "cell_type": "code",
      "execution_count": 29,
      "metadata": {},
      "outputs": [
        {
          "name": "stdout",
          "output_type": "stream",
          "text": [
            "\u001b[1m194/194\u001b[0m \u001b[32m━━━━━━━━━━━━━━━━━━━━\u001b[0m\u001b[37m\u001b[0m \u001b[1m2s\u001b[0m 5ms/step\n"
          ]
        },
        {
          "data": {
            "image/png": "[encoded data removed]",
            "text/plain": [
              "<Figure size 700x600 with 2 Axes>"
            ]
          },
          "metadata": {},
          "output_type": "display_data"
        },
        {
          "name": "stdout",
          "output_type": "stream",
          "text": [
            "Classification Report\n",
            "              precision    recall  f1-score   support\n",
            "\n",
            "         0.0       1.00      0.99      0.99       362\n",
            "         1.0       1.00      1.00      1.00       983\n",
            "         2.0       1.00      1.00      1.00       818\n",
            "         3.0       1.00      1.00      1.00       330\n",
            "         4.0       1.00      0.99      1.00       539\n",
            "         5.0       1.00      1.00      1.00      1069\n",
            "         6.0       0.99      1.00      1.00       576\n",
            "         7.0       1.00      1.00      1.00       932\n",
            "         8.0       1.00      1.00      1.00       484\n",
            "         9.0       1.00      1.00      1.00        87\n",
            "\n",
            "    accuracy                           1.00      6180\n",
            "   macro avg       1.00      1.00      1.00      6180\n",
            "weighted avg       1.00      1.00      1.00      6180\n",
            "\n"
          ]
        }
      ],
      "source": [
        "\n",
        "def print_confusion_matrix(y_true, y_pred, report=True):\n",
        "    labels = sorted(list(set(y_true)))\n",
        "    cmx_data = confusion_matrix(y_true, y_pred, labels=labels)\n",
        "    \n",
        "    df_cmx = pd.DataFrame(cmx_data, index=labels, columns=labels)\n",
        " \n",
        "    fig, ax = plt.subplots(figsize=(7, 6))\n",
        "    sns.heatmap(df_cmx, annot=True, fmt='g' ,square=False)\n",
        "    ax.set_ylim(len(set(y_true)), 0)\n",
        "    plt.show()\n",
        "    \n",
        "    if report:\n",
        "        print('Classification Report')\n",
        "        print(classification_report(y_test, y_pred))\n",
        "\n",
        "Y_pred = model.predict(X_test)\n",
        "y_pred = np.argmax(Y_pred, axis=1)\n",
        "\n",
        "print_confusion_matrix(y_test, y_pred)"
      ]
    },
    {
      "cell_type": "markdown",
      "metadata": {},
      "source": [
        "**Testing the model**"
      ]
    },
    {
      "cell_type": "code",
      "execution_count": 23,
      "metadata": {
        "colab": {
          "base_uri": "https://localhost:8080/",
          "height": 1000
        },
        "id": "-WO4hmUunoK9",
        "outputId": "3dfddca4-4889-47ee-91b1-56bc2e77076e"
      },
      "outputs": [],
      "source": [
        "\n",
        "video_path = 'busy-in-asl_kfww2HVF - Copy (2) - Copy.mp4'\n",
        "cap = cv2.VideoCapture(video_path)\n",
        "\n",
        "mp_hands = mp.solutions.hands\n",
        "hands = mp_hands.Hands(min_detection_confidence=0.7, min_tracking_confidence=0.7, max_num_hands=2)\n",
        "\n",
        "while cap.isOpened():\n",
        "    ret, frame = cap.read()\n",
        "    if not ret:\n",
        "        break\n",
        "\n",
        "    # Process frame with MediaPipe Hand Gesture Recognition\n",
        "    frame_rgb = cv2.cvtColor(frame, cv2.COLOR_BGR2RGB)\n",
        "    results = hands.process(frame_rgb)\n",
        "\n",
        "    # Check if hand landmarks are detected\n",
        "    if results.multi_hand_landmarks:\n",
        "        for hand_landmarks in results.multi_hand_landmarks:\n",
        "            # Extract hand landmarks\n",
        "            landmarks = [[lm.x, lm.y, lm.z] for lm in hand_landmarks.landmark]\n",
        "\n",
        "            # Preprocess landmarks (reshape, convert to numpy array, etc.)\n",
        "            # Example:\n",
        "            landmarks_array = np.array(landmarks, dtype=np.float32)\n",
        "            landmarks_array = landmarks_array[np.newaxis, ...]  # Add batch dimension\n",
        "\n",
        "            # Use the model to make predictions\n",
        "            predictions = model.predict(landmarks_array)\n",
        "\n",
        "            # Example: Print the predicted class\n",
        "            if (np.argmax(predictions) == 0):\n",
        "              print(\"Predicted Class: Busy\")\n",
        "            elif (np.argmax(predictions) == 1):\n",
        "              print(\"Predicted Class: Execuse me\")\n",
        "            elif (np.argmax(predictions) == 2):\n",
        "              print(\"Predicted Class: Good morning\")\n",
        "            elif (np.argmax(predictions) == 3):\n",
        "              print(\"Predicted Class: Good night\")\n",
        "            elif (np.argmax(predictions) == 4):\n",
        "              print(\"Predicted Class: Goodbye\")\n",
        "            elif (np.argmax(predictions) == 5):\n",
        "              print(\"Predicted Class: Happy birthday\")\n",
        "            elif (np.argmax(predictions) == 6):\n",
        "              print(\"Predicted Class: Hello\")\n",
        "            elif (np.argmax(predictions) == 7):\n",
        "              print(\"Predicted Class: How are you\")\n",
        "            elif (np.argmax(predictions) == 8):\n",
        "              print(\"Predicted Class: I am fine\")\n",
        "            elif (np.argmax(predictions) == 9):\n",
        "              print(\"Predicted Class: I am tired\")\n",
        "            elif (np.argmax(predictions) == 10):\n",
        "              print(\"Predicted Class: I don't know\")\n",
        "            elif (np.argmax(predictions) == 11):\n",
        "              print(\"Predicted Class: I love you\")\n",
        "            elif (np.argmax(predictions) == 12):\n",
        "              print(\"Predicted Class: Nice to meet you\")\n",
        "            elif (np.argmax(predictions) == 13):\n",
        "              print(\"Predicted Class: Take care\")\n",
        "            elif (np.argmax(predictions) == 14):\n",
        "              print(\"Predicted Class: Thank you\")\n",
        "            else:\n",
        "              print(\"nothing\")\n",
        "\n",
        "    # Display the frame\n",
        "    cv2.imshow('Hello',frame)\n",
        "\n",
        "    # Break the loop if 'q' is pressed\n",
        "    if cv2.waitKey(1) & 0xFF == ord('q'):\n",
        "        break\n",
        "\n",
        "# Release the video capture object and close all windows\n",
        "cap.release()\n",
        "cv2.destroyAllWindows()\n"
      ]
    }
  ],
  "metadata": {
    "colab": {
      "provenance": []
    },
    "kernelspec": {
      "display_name": "Python 3",
      "name": "python3"
    },
    "language_info": {
      "codemirror_mode": {
        "name": "ipython",
        "version": 3
      },
      "file_extension": ".py",
      "mimetype": "text/x-python",
      "name": "python",
      "nbconvert_exporter": "python",
      "pygments_lexer": "ipython3",
      "version": "3.10.6"
    }
  },
  "nbformat": 4,
  "nbformat_minor": 0
}
